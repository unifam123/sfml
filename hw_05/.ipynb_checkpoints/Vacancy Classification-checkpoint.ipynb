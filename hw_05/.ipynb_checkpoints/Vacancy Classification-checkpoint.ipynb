{
 "cells": [
  {
   "cell_type": "code",
   "execution_count": 1,
   "metadata": {},
   "outputs": [],
   "source": [
    "import pandas as pd\n",
    "from bs4 import BeautifulSoup\n",
    "import pymorphy2\n",
    "import pymystem3\n",
    "import re\n",
    "import numpy as np"
   ]
  },
  {
   "cell_type": "code",
   "execution_count": 2,
   "metadata": {},
   "outputs": [],
   "source": [
    "from sklearn.pipeline import Pipeline\n",
    "from sklearn.linear_model import LogisticRegression, SGDClassifier\n",
    "from sklearn.feature_extraction.text import CountVectorizer, TfidfTransformer\n",
    "from sklearn.pipeline import FeatureUnion\n",
    "from sklearn.model_selection import cross_val_score\n",
    "from sklearn.ensemble import RandomForestClassifier\n",
    "from sklearn.model_selection import GridSearchCV, RandomizedSearchCV"
   ]
  },
  {
   "cell_type": "code",
   "execution_count": 190,
   "metadata": {},
   "outputs": [],
   "source": [
    "import multiprocessing\n",
    "from numba import jit"
   ]
  },
  {
   "cell_type": "code",
   "execution_count": 3,
   "metadata": {},
   "outputs": [],
   "source": [
    "def set_answer(predictions, file_name):\n",
    "    dataframe = pd.DataFrame(predictions, columns=['target'], index=np.arange(200000, 370179))\n",
    "    dataframe.to_csv('data/'+str(name)+'.csv', index_label='id')"
   ]
  },
  {
   "cell_type": "code",
   "execution_count": 4,
   "metadata": {},
   "outputs": [],
   "source": [
    "def get_data(processed=False):\n",
    "    train_data = pd.read_csv('data/train.csv', sep='\\t', index_col='id')\n",
    "    test_data = pd.read_csv('data/test.csv', sep='\\t', index_col='id') \n",
    "    return (train_data, test_data)"
   ]
  },
  {
   "cell_type": "code",
   "execution_count": 54,
   "metadata": {},
   "outputs": [],
   "source": [
    "posConv={'ADJF':'_ADJ','NOUN':'_NOUN','VERB':'_VERB', 'PRTF': '_PRT', 'GRND': '_GRND'}\n",
    "morph = pymorphy2.MorphAnalyzer()\n",
    "\n",
    "def getVacancyVector(texts):\n",
    "    processed = []\n",
    "    for text in texts:\n",
    "        text = BeautifulSoup(text, 'lxml').get_text()    \n",
    "        words=[a[0] for a in re.findall(\"([0-9a-zA-ZА-ЯЁа-яё]+(-[0-9a-zA-ZА-ЯЁа-яё]+)*)\", text)]\n",
    "        reswords=[]\n",
    "\n",
    "        for w in words:\n",
    "            wordform=morph.parse(w)[0]\n",
    "            if wordform.tag.POS in ['ADJF', 'NOUN', 'VERB', 'PRTF', 'GRND']:\n",
    "                reswords.append(wordform.normal_form+posConv[wordform.tag.POS])            \n",
    "        \n",
    "        processed.append(\" \".join(reswords))\n",
    "        \n",
    "    return  processed"
   ]
  },
  {
   "cell_type": "code",
   "execution_count": 156,
   "metadata": {},
   "outputs": [],
   "source": [
    "mystem = pymystem3.Mystem()"
   ]
  },
  {
   "cell_type": "code",
   "execution_count": 200,
   "metadata": {},
   "outputs": [],
   "source": [
    "## Токенизатор \n",
    "def get_lemmas(text):    \n",
    "    text = BeautifulSoup(text, 'lxml').get_text()    \n",
    "    #lemms = mystem.lemmatize(text) #MyStem -- выключил, так как работает медленней\n",
    "    #PyMorphy\n",
    "    lemms = []    \n",
    "    for w in text:\n",
    "        wordform=morph.parse(w)[0]\n",
    "        lemms.append(wordform.normal_form)            \n",
    "    return \" \".join([x for x in lemms if re.match('^[0-9a-zа-яё]+(-[0-9a-zа-яё]+)*$', x)])\n",
    "       \n",
    "def getVacanciesLemmas(texts):  \n",
    "    texts = np.array(texts)\n",
    "    #mystem.start()\n",
    "    processed = np.vectorize(get_lemmas, otypes=[str])          \n",
    "    #mystem.close()\n",
    "    return processed(texts)"
   ]
  },
  {
   "cell_type": "code",
   "execution_count": 6,
   "metadata": {},
   "outputs": [],
   "source": [
    "## Функция для красивого вывода наиболее оптимальных параметров обучения\n",
    "def print_test_results(SearchCV):\n",
    "    return pd.DataFrame(SearchCV.cv_results_).sort_values(by='mean_test_score', ascending=False).head(10)"
   ]
  },
  {
   "cell_type": "code",
   "execution_count": 7,
   "metadata": {},
   "outputs": [],
   "source": [
    "train_data, test_data = get_data()"
   ]
  },
  {
   "cell_type": "code",
   "execution_count": null,
   "metadata": {},
   "outputs": [],
   "source": [
    "## при вызове GridSeachCV c n_jobs=-1 не сработает при вызове токенайзера в качестве сторонней функции\n",
    "##https://github.com/scikit-learn/scikit-learn/issues/5115\n",
    "##функция так-же падает при попытке вызвать myStem\n",
    "##поэтому лемматизацию делаем предварительно\n",
    "\n",
    "%time X = getVacanciesLemmas(train_data['name'][:1000]+' '+train_data['description'][:1000])"
   ]
  },
  {
   "cell_type": "code",
   "execution_count": 173,
   "metadata": {},
   "outputs": [],
   "source": [
    "y = train_data.iloc[:10000, -1].values"
   ]
  },
  {
   "cell_type": "markdown",
   "metadata": {},
   "source": [
    "## Оценка SGD Classifier"
   ]
  },
  {
   "cell_type": "code",
   "execution_count": 130,
   "metadata": {},
   "outputs": [],
   "source": [
    "sgd_clf = Pipeline([('vect', CountVectorizer(min_df=3)),\n",
    "                     ('tfidf', TfidfTransformer()),\n",
    "                     ('clf', SGDClassifier(random_state=42)),\n",
    "])"
   ]
  },
  {
   "cell_type": "code",
   "execution_count": 131,
   "metadata": {},
   "outputs": [],
   "source": [
    "parameters = {\n",
    "    'vect__ngram_range': [(1, 1), (1, 2), (1, 3)]\n",
    "}"
   ]
  },
  {
   "cell_type": "code",
   "execution_count": 132,
   "metadata": {},
   "outputs": [],
   "source": [
    "sgd_gs_clf = GridSearchCV(sgd_clf, parameters, n_jobs=-1, scoring='roc_auc')"
   ]
  },
  {
   "cell_type": "code",
   "execution_count": 133,
   "metadata": {},
   "outputs": [
    {
     "name": "stdout",
     "output_type": "stream",
     "text": [
      "Wall time: 6.17 s\n"
     ]
    },
    {
     "name": "stderr",
     "output_type": "stream",
     "text": [
      "C:\\Users\\unifam.OFFICE\\AppData\\Local\\Continuum\\anaconda2\\envs\\p36\\lib\\site-packages\\sklearn\\linear_model\\stochastic_gradient.py:128: FutureWarning: max_iter and tol parameters have been added in <class 'sklearn.linear_model.stochastic_gradient.SGDClassifier'> in 0.19. If both are left unset, they default to max_iter=5 and tol=None. If tol is not None, max_iter defaults to max_iter=1000. From 0.21, default max_iter will be 1000, and default tol will be 1e-3.\n",
      "  \"and default tol will be 1e-3.\" % type(self), FutureWarning)\n"
     ]
    },
    {
     "data": {
      "text/plain": [
       "0.9808415676399818"
      ]
     },
     "execution_count": 133,
     "metadata": {},
     "output_type": "execute_result"
    }
   ],
   "source": [
    "%%time\n",
    "\n",
    "sgd_gs_clf.fit(X, y).best_score_"
   ]
  },
  {
   "cell_type": "code",
   "execution_count": 146,
   "metadata": {},
   "outputs": [
    {
     "name": "stderr",
     "output_type": "stream",
     "text": [
      "C:\\Users\\unifam.OFFICE\\AppData\\Local\\Continuum\\anaconda2\\envs\\p36\\lib\\site-packages\\sklearn\\utils\\deprecation.py:122: FutureWarning: You are accessing a training score ('mean_train_score'), which will not be available by default any more in 0.21. If you need training scores, please set return_train_score=True\n",
      "  warnings.warn(*warn_args, **warn_kwargs)\n",
      "C:\\Users\\unifam.OFFICE\\AppData\\Local\\Continuum\\anaconda2\\envs\\p36\\lib\\site-packages\\sklearn\\utils\\deprecation.py:122: FutureWarning: You are accessing a training score ('split0_train_score'), which will not be available by default any more in 0.21. If you need training scores, please set return_train_score=True\n",
      "  warnings.warn(*warn_args, **warn_kwargs)\n",
      "C:\\Users\\unifam.OFFICE\\AppData\\Local\\Continuum\\anaconda2\\envs\\p36\\lib\\site-packages\\sklearn\\utils\\deprecation.py:122: FutureWarning: You are accessing a training score ('split1_train_score'), which will not be available by default any more in 0.21. If you need training scores, please set return_train_score=True\n",
      "  warnings.warn(*warn_args, **warn_kwargs)\n",
      "C:\\Users\\unifam.OFFICE\\AppData\\Local\\Continuum\\anaconda2\\envs\\p36\\lib\\site-packages\\sklearn\\utils\\deprecation.py:122: FutureWarning: You are accessing a training score ('split2_train_score'), which will not be available by default any more in 0.21. If you need training scores, please set return_train_score=True\n",
      "  warnings.warn(*warn_args, **warn_kwargs)\n",
      "C:\\Users\\unifam.OFFICE\\AppData\\Local\\Continuum\\anaconda2\\envs\\p36\\lib\\site-packages\\sklearn\\utils\\deprecation.py:122: FutureWarning: You are accessing a training score ('std_train_score'), which will not be available by default any more in 0.21. If you need training scores, please set return_train_score=True\n",
      "  warnings.warn(*warn_args, **warn_kwargs)\n"
     ]
    },
    {
     "data": {
      "text/html": [
       "<div>\n",
       "<style scoped>\n",
       "    .dataframe tbody tr th:only-of-type {\n",
       "        vertical-align: middle;\n",
       "    }\n",
       "\n",
       "    .dataframe tbody tr th {\n",
       "        vertical-align: top;\n",
       "    }\n",
       "\n",
       "    .dataframe thead th {\n",
       "        text-align: right;\n",
       "    }\n",
       "</style>\n",
       "<table border=\"1\" class=\"dataframe\">\n",
       "  <thead>\n",
       "    <tr style=\"text-align: right;\">\n",
       "      <th></th>\n",
       "      <th>mean_fit_time</th>\n",
       "      <th>mean_score_time</th>\n",
       "      <th>mean_test_score</th>\n",
       "      <th>mean_train_score</th>\n",
       "      <th>param_vect__ngram_range</th>\n",
       "      <th>params</th>\n",
       "      <th>rank_test_score</th>\n",
       "      <th>split0_test_score</th>\n",
       "      <th>split0_train_score</th>\n",
       "      <th>split1_test_score</th>\n",
       "      <th>split1_train_score</th>\n",
       "      <th>split2_test_score</th>\n",
       "      <th>split2_train_score</th>\n",
       "      <th>std_fit_time</th>\n",
       "      <th>std_score_time</th>\n",
       "      <th>std_test_score</th>\n",
       "      <th>std_train_score</th>\n",
       "    </tr>\n",
       "  </thead>\n",
       "  <tbody>\n",
       "    <tr>\n",
       "      <th>1</th>\n",
       "      <td>0.859150</td>\n",
       "      <td>0.223546</td>\n",
       "      <td>0.980842</td>\n",
       "      <td>0.999539</td>\n",
       "      <td>(1, 2)</td>\n",
       "      <td>{'vect__ngram_range': (1, 2)}</td>\n",
       "      <td>1</td>\n",
       "      <td>0.980104</td>\n",
       "      <td>0.999656</td>\n",
       "      <td>0.985266</td>\n",
       "      <td>0.999124</td>\n",
       "      <td>0.977157</td>\n",
       "      <td>0.999837</td>\n",
       "      <td>0.008662</td>\n",
       "      <td>0.003094</td>\n",
       "      <td>0.003350</td>\n",
       "      <td>0.000303</td>\n",
       "    </tr>\n",
       "    <tr>\n",
       "      <th>2</th>\n",
       "      <td>1.393658</td>\n",
       "      <td>0.289608</td>\n",
       "      <td>0.980392</td>\n",
       "      <td>0.999375</td>\n",
       "      <td>(1, 3)</td>\n",
       "      <td>{'vect__ngram_range': (1, 3)}</td>\n",
       "      <td>2</td>\n",
       "      <td>0.980446</td>\n",
       "      <td>0.999746</td>\n",
       "      <td>0.986028</td>\n",
       "      <td>0.999442</td>\n",
       "      <td>0.974701</td>\n",
       "      <td>0.998936</td>\n",
       "      <td>0.082234</td>\n",
       "      <td>0.009039</td>\n",
       "      <td>0.004622</td>\n",
       "      <td>0.000334</td>\n",
       "    </tr>\n",
       "    <tr>\n",
       "      <th>0</th>\n",
       "      <td>0.213533</td>\n",
       "      <td>0.085749</td>\n",
       "      <td>0.979770</td>\n",
       "      <td>0.999535</td>\n",
       "      <td>(1, 1)</td>\n",
       "      <td>{'vect__ngram_range': (1, 1)}</td>\n",
       "      <td>3</td>\n",
       "      <td>0.980410</td>\n",
       "      <td>0.999719</td>\n",
       "      <td>0.985366</td>\n",
       "      <td>0.999099</td>\n",
       "      <td>0.973532</td>\n",
       "      <td>0.999788</td>\n",
       "      <td>0.029969</td>\n",
       "      <td>0.011036</td>\n",
       "      <td>0.004850</td>\n",
       "      <td>0.000310</td>\n",
       "    </tr>\n",
       "  </tbody>\n",
       "</table>\n",
       "</div>"
      ],
      "text/plain": [
       "   mean_fit_time  mean_score_time  mean_test_score  mean_train_score  \\\n",
       "1       0.859150         0.223546         0.980842          0.999539   \n",
       "2       1.393658         0.289608         0.980392          0.999375   \n",
       "0       0.213533         0.085749         0.979770          0.999535   \n",
       "\n",
       "  param_vect__ngram_range                         params  rank_test_score  \\\n",
       "1                  (1, 2)  {'vect__ngram_range': (1, 2)}                1   \n",
       "2                  (1, 3)  {'vect__ngram_range': (1, 3)}                2   \n",
       "0                  (1, 1)  {'vect__ngram_range': (1, 1)}                3   \n",
       "\n",
       "   split0_test_score  split0_train_score  split1_test_score  \\\n",
       "1           0.980104            0.999656           0.985266   \n",
       "2           0.980446            0.999746           0.986028   \n",
       "0           0.980410            0.999719           0.985366   \n",
       "\n",
       "   split1_train_score  split2_test_score  split2_train_score  std_fit_time  \\\n",
       "1            0.999124           0.977157            0.999837      0.008662   \n",
       "2            0.999442           0.974701            0.998936      0.082234   \n",
       "0            0.999099           0.973532            0.999788      0.029969   \n",
       "\n",
       "   std_score_time  std_test_score  std_train_score  \n",
       "1        0.003094        0.003350         0.000303  \n",
       "2        0.009039        0.004622         0.000334  \n",
       "0        0.011036        0.004850         0.000310  "
      ]
     },
     "execution_count": 146,
     "metadata": {},
     "output_type": "execute_result"
    }
   ],
   "source": [
    "print_test_results(sgd_gs_clf)"
   ]
  },
  {
   "cell_type": "markdown",
   "metadata": {},
   "source": [
    "## Оценка Forest"
   ]
  },
  {
   "cell_type": "code",
   "execution_count": 150,
   "metadata": {},
   "outputs": [],
   "source": [
    "frst_clf = Pipeline([('vect', CountVectorizer(ngram_range=(1,2), min_df=3)),\n",
    "                     ('tfidf', TfidfTransformer()),\n",
    "                     ('clf', RandomForestClassifier(random_state=42, n_estimators=50))\n",
    "])"
   ]
  },
  {
   "cell_type": "code",
   "execution_count": 151,
   "metadata": {},
   "outputs": [],
   "source": [
    "parameters = {    \n",
    "    'vect__max_df': (1.0, 0.9, 0.8)    \n",
    "}"
   ]
  },
  {
   "cell_type": "code",
   "execution_count": 152,
   "metadata": {},
   "outputs": [],
   "source": [
    "frst_gs_clf = GridSearchCV(frst_clf, parameters, n_jobs=-1, scoring='roc_auc')"
   ]
  },
  {
   "cell_type": "code",
   "execution_count": 153,
   "metadata": {},
   "outputs": [
    {
     "name": "stdout",
     "output_type": "stream",
     "text": [
      "Wall time: 8.64 s\n"
     ]
    },
    {
     "data": {
      "text/plain": [
       "0.9724382535428812"
      ]
     },
     "execution_count": 153,
     "metadata": {},
     "output_type": "execute_result"
    }
   ],
   "source": [
    "%%time\n",
    "\n",
    "frst_gs_clf.fit(X, y).best_score_"
   ]
  },
  {
   "cell_type": "code",
   "execution_count": 154,
   "metadata": {},
   "outputs": [
    {
     "name": "stderr",
     "output_type": "stream",
     "text": [
      "C:\\Users\\unifam.OFFICE\\AppData\\Local\\Continuum\\anaconda2\\envs\\p36\\lib\\site-packages\\sklearn\\utils\\deprecation.py:122: FutureWarning: You are accessing a training score ('mean_train_score'), which will not be available by default any more in 0.21. If you need training scores, please set return_train_score=True\n",
      "  warnings.warn(*warn_args, **warn_kwargs)\n",
      "C:\\Users\\unifam.OFFICE\\AppData\\Local\\Continuum\\anaconda2\\envs\\p36\\lib\\site-packages\\sklearn\\utils\\deprecation.py:122: FutureWarning: You are accessing a training score ('split0_train_score'), which will not be available by default any more in 0.21. If you need training scores, please set return_train_score=True\n",
      "  warnings.warn(*warn_args, **warn_kwargs)\n",
      "C:\\Users\\unifam.OFFICE\\AppData\\Local\\Continuum\\anaconda2\\envs\\p36\\lib\\site-packages\\sklearn\\utils\\deprecation.py:122: FutureWarning: You are accessing a training score ('split1_train_score'), which will not be available by default any more in 0.21. If you need training scores, please set return_train_score=True\n",
      "  warnings.warn(*warn_args, **warn_kwargs)\n",
      "C:\\Users\\unifam.OFFICE\\AppData\\Local\\Continuum\\anaconda2\\envs\\p36\\lib\\site-packages\\sklearn\\utils\\deprecation.py:122: FutureWarning: You are accessing a training score ('split2_train_score'), which will not be available by default any more in 0.21. If you need training scores, please set return_train_score=True\n",
      "  warnings.warn(*warn_args, **warn_kwargs)\n",
      "C:\\Users\\unifam.OFFICE\\AppData\\Local\\Continuum\\anaconda2\\envs\\p36\\lib\\site-packages\\sklearn\\utils\\deprecation.py:122: FutureWarning: You are accessing a training score ('std_train_score'), which will not be available by default any more in 0.21. If you need training scores, please set return_train_score=True\n",
      "  warnings.warn(*warn_args, **warn_kwargs)\n"
     ]
    },
    {
     "data": {
      "text/html": [
       "<div>\n",
       "<style scoped>\n",
       "    .dataframe tbody tr th:only-of-type {\n",
       "        vertical-align: middle;\n",
       "    }\n",
       "\n",
       "    .dataframe tbody tr th {\n",
       "        vertical-align: top;\n",
       "    }\n",
       "\n",
       "    .dataframe thead th {\n",
       "        text-align: right;\n",
       "    }\n",
       "</style>\n",
       "<table border=\"1\" class=\"dataframe\">\n",
       "  <thead>\n",
       "    <tr style=\"text-align: right;\">\n",
       "      <th></th>\n",
       "      <th>mean_fit_time</th>\n",
       "      <th>mean_score_time</th>\n",
       "      <th>mean_test_score</th>\n",
       "      <th>mean_train_score</th>\n",
       "      <th>param_vect__max_df</th>\n",
       "      <th>params</th>\n",
       "      <th>rank_test_score</th>\n",
       "      <th>split0_test_score</th>\n",
       "      <th>split0_train_score</th>\n",
       "      <th>split1_test_score</th>\n",
       "      <th>split1_train_score</th>\n",
       "      <th>split2_test_score</th>\n",
       "      <th>split2_train_score</th>\n",
       "      <th>std_fit_time</th>\n",
       "      <th>std_score_time</th>\n",
       "      <th>std_test_score</th>\n",
       "      <th>std_train_score</th>\n",
       "    </tr>\n",
       "  </thead>\n",
       "  <tbody>\n",
       "    <tr>\n",
       "      <th>0</th>\n",
       "      <td>1.501090</td>\n",
       "      <td>0.250906</td>\n",
       "      <td>0.972438</td>\n",
       "      <td>0.999372</td>\n",
       "      <td>1</td>\n",
       "      <td>{'vect__max_df': 1.0}</td>\n",
       "      <td>1</td>\n",
       "      <td>0.976988</td>\n",
       "      <td>0.999429</td>\n",
       "      <td>0.981932</td>\n",
       "      <td>0.998686</td>\n",
       "      <td>0.958382</td>\n",
       "      <td>1.0</td>\n",
       "      <td>0.078316</td>\n",
       "      <td>0.006134</td>\n",
       "      <td>0.010135</td>\n",
       "      <td>0.000538</td>\n",
       "    </tr>\n",
       "    <tr>\n",
       "      <th>2</th>\n",
       "      <td>1.437367</td>\n",
       "      <td>0.193851</td>\n",
       "      <td>0.972373</td>\n",
       "      <td>0.999272</td>\n",
       "      <td>0.8</td>\n",
       "      <td>{'vect__max_df': 0.8}</td>\n",
       "      <td>2</td>\n",
       "      <td>0.977240</td>\n",
       "      <td>0.999311</td>\n",
       "      <td>0.982299</td>\n",
       "      <td>0.998505</td>\n",
       "      <td>0.957566</td>\n",
       "      <td>1.0</td>\n",
       "      <td>0.257644</td>\n",
       "      <td>0.050705</td>\n",
       "      <td>0.010664</td>\n",
       "      <td>0.000611</td>\n",
       "    </tr>\n",
       "    <tr>\n",
       "      <th>1</th>\n",
       "      <td>1.577833</td>\n",
       "      <td>0.271592</td>\n",
       "      <td>0.971623</td>\n",
       "      <td>0.999293</td>\n",
       "      <td>0.9</td>\n",
       "      <td>{'vect__max_df': 0.9}</td>\n",
       "      <td>3</td>\n",
       "      <td>0.977551</td>\n",
       "      <td>0.999293</td>\n",
       "      <td>0.982530</td>\n",
       "      <td>0.998586</td>\n",
       "      <td>0.954771</td>\n",
       "      <td>1.0</td>\n",
       "      <td>0.091163</td>\n",
       "      <td>0.031232</td>\n",
       "      <td>0.012080</td>\n",
       "      <td>0.000577</td>\n",
       "    </tr>\n",
       "  </tbody>\n",
       "</table>\n",
       "</div>"
      ],
      "text/plain": [
       "   mean_fit_time  mean_score_time  mean_test_score  mean_train_score  \\\n",
       "0       1.501090         0.250906         0.972438          0.999372   \n",
       "2       1.437367         0.193851         0.972373          0.999272   \n",
       "1       1.577833         0.271592         0.971623          0.999293   \n",
       "\n",
       "  param_vect__max_df                 params  rank_test_score  \\\n",
       "0                  1  {'vect__max_df': 1.0}                1   \n",
       "2                0.8  {'vect__max_df': 0.8}                2   \n",
       "1                0.9  {'vect__max_df': 0.9}                3   \n",
       "\n",
       "   split0_test_score  split0_train_score  split1_test_score  \\\n",
       "0           0.976988            0.999429           0.981932   \n",
       "2           0.977240            0.999311           0.982299   \n",
       "1           0.977551            0.999293           0.982530   \n",
       "\n",
       "   split1_train_score  split2_test_score  split2_train_score  std_fit_time  \\\n",
       "0            0.998686           0.958382                 1.0      0.078316   \n",
       "2            0.998505           0.957566                 1.0      0.257644   \n",
       "1            0.998586           0.954771                 1.0      0.091163   \n",
       "\n",
       "   std_score_time  std_test_score  std_train_score  \n",
       "0        0.006134        0.010135         0.000538  \n",
       "2        0.050705        0.010664         0.000611  \n",
       "1        0.031232        0.012080         0.000577  "
      ]
     },
     "execution_count": 154,
     "metadata": {},
     "output_type": "execute_result"
    }
   ],
   "source": [
    "print_test_results(frst_gs_clf)"
   ]
  },
  {
   "cell_type": "markdown",
   "metadata": {},
   "source": [
    "## Оценка логистической регрессии"
   ]
  },
  {
   "cell_type": "code",
   "execution_count": null,
   "metadata": {},
   "outputs": [],
   "source": [
    "text_clf = Pipeline([('vect', CountVectorizer()),\n",
    "                     ('tfidf', TfidfTransformer()),\n",
    "                     ('clf', LogisticRegression(random_state=42)),\n",
    "])"
   ]
  },
  {
   "cell_type": "code",
   "execution_count": null,
   "metadata": {},
   "outputs": [],
   "source": [
    "parameters = {'vect__ngram_range': [(1, 1), (1, 2)],\n",
    "              'vect__max_df': (1, 0.9, 0.8),\n",
    "              'tfidf__use_idf': (True, False),\n",
    "              'tfidf__smooth_idf': (True, False),\n",
    "              'clf__alpha': (1e-2, 1e-3),\n",
    "              'clf__max_iter': (5, 10, 50)\n",
    "}"
   ]
  },
  {
   "cell_type": "code",
   "execution_count": null,
   "metadata": {},
   "outputs": [],
   "source": [
    "gs_clf = GridSearchCV(text_clf, parameters, n_jobs=-1, scoring='roc_auc')"
   ]
  },
  {
   "cell_type": "code",
   "execution_count": null,
   "metadata": {},
   "outputs": [],
   "source": [
    "%%time\n",
    "gs_clf.fit(X[:400], y[:400]).best_score_"
   ]
  },
  {
   "cell_type": "code",
   "execution_count": null,
   "metadata": {
    "scrolled": false
   },
   "outputs": [],
   "source": [
    "fr = pd.DataFrame(gs_clf.cv_results_)"
   ]
  },
  {
   "cell_type": "code",
   "execution_count": null,
   "metadata": {},
   "outputs": [],
   "source": [
    "fr.columns"
   ]
  },
  {
   "cell_type": "code",
   "execution_count": null,
   "metadata": {},
   "outputs": [],
   "source": [
    "fr.sort_values(by='mean_test_score', ascending=False).head()"
   ]
  },
  {
   "cell_type": "code",
   "execution_count": null,
   "metadata": {},
   "outputs": [],
   "source": [
    "mystem.close()"
   ]
  }
 ],
 "metadata": {
  "kernelspec": {
   "display_name": "Python 3",
   "language": "python",
   "name": "python3"
  },
  "language_info": {
   "codemirror_mode": {
    "name": "ipython",
    "version": 3
   },
   "file_extension": ".py",
   "mimetype": "text/x-python",
   "name": "python",
   "nbconvert_exporter": "python",
   "pygments_lexer": "ipython3",
   "version": "3.6.4"
  },
  "varInspector": {
   "cols": {
    "lenName": 16,
    "lenType": 16,
    "lenVar": 40
   },
   "kernels_config": {
    "python": {
     "delete_cmd_postfix": "",
     "delete_cmd_prefix": "del ",
     "library": "var_list.py",
     "varRefreshCmd": "print(var_dic_list())"
    },
    "r": {
     "delete_cmd_postfix": ") ",
     "delete_cmd_prefix": "rm(",
     "library": "var_list.r",
     "varRefreshCmd": "cat(var_dic_list()) "
    }
   },
   "types_to_exclude": [
    "module",
    "function",
    "builtin_function_or_method",
    "instance",
    "_Feature"
   ],
   "window_display": true
  }
 },
 "nbformat": 4,
 "nbformat_minor": 2
}
