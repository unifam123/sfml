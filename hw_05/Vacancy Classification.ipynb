{
 "cells": [
  {
   "cell_type": "code",
   "execution_count": 1,
   "metadata": {
    "collapsed": true
   },
   "outputs": [],
   "source": [
    "import pandas as pd\n",
    "from bs4 import BeautifulSoup\n",
    "import pymorphy2\n",
    "import pymystem3\n",
    "import re\n",
    "import numpy as np"
   ]
  },
  {
   "cell_type": "code",
   "execution_count": 15,
   "metadata": {
    "collapsed": true
   },
   "outputs": [],
   "source": [
    "from sklearn.pipeline import Pipeline\n",
    "from sklearn.linear_model import LogisticRegression, SGDClassifier\n",
    "from sklearn.feature_extraction.text import CountVectorizer, TfidfTransformer, TfidfVectorizer\n",
    "from sklearn.pipeline import FeatureUnion\n",
    "from sklearn.model_selection import cross_val_score, StratifiedKFold, validation_curve, train_test_split\n",
    "from sklearn.ensemble import RandomForestClassifier\n",
    "from sklearn.model_selection import GridSearchCV, RandomizedSearchCV\n",
    "from sklearn.metrics import roc_auc_score, confusion_matrix, roc_curve"
   ]
  },
  {
   "cell_type": "code",
   "execution_count": 3,
   "metadata": {
    "collapsed": true
   },
   "outputs": [],
   "source": [
    "import matplotlib.pyplot as plt\n",
    "\n",
    "\n",
    "%matplotlib inline\n",
    "\n",
    "plt.style.use('ggplot')\n",
    "plt.rcParams['figure.figsize'] = (12, 8)"
   ]
  },
  {
   "cell_type": "code",
   "execution_count": 4,
   "metadata": {
    "collapsed": true
   },
   "outputs": [],
   "source": [
    "def set_answer(predictions, file_name):\n",
    "    dataframe = pd.DataFrame(predictions, columns=['target'], index=np.arange(200000, 370179))\n",
    "    dataframe.to_csv('data/'+str(file_name)+'.csv', index_label='id')"
   ]
  },
  {
   "cell_type": "code",
   "execution_count": 5,
   "metadata": {
    "collapsed": true
   },
   "outputs": [],
   "source": [
    "def get_data(processed=False):\n",
    "    if processed:\n",
    "        train_data = pd.read_csv('data/train_processed2.csv', sep='\\t', index_col='id')\n",
    "        test_data = pd.read_csv('data/test_processed.csv', sep='\\t', index_col='id') \n",
    "    else:\n",
    "        train_data = pd.read_csv('data/train.csv', sep='\\t', index_col='id')\n",
    "        test_data = pd.read_csv('data/test.csv', sep='\\t', index_col='id') \n",
    "    return (train_data, test_data)"
   ]
  },
  {
   "cell_type": "code",
   "execution_count": 6,
   "metadata": {
    "collapsed": true
   },
   "outputs": [],
   "source": [
    "## Токенизатор\n",
    "\n",
    "def get_lemmas(text):    \n",
    "    #text = BeautifulSoup(text, 'lxml').get_text()       \n",
    "    #lemms = [morph.parse(w)[0].normal_form for w in text.split()]    \n",
    "    lemms = [w for w in text.split()]    \n",
    "    return \" \".join([x for x in lemms if (re.match('^[a-zа-яё]+(-[a-zа-яё]+)*$', x) and len(x)>2)])\n",
    "       \n",
    "def getVacanciesLemmas(texts):  \n",
    "    texts = np.array(texts)    \n",
    "    processed = np.vectorize(get_lemmas, otypes=[str])              \n",
    "    return processed(texts)"
   ]
  },
  {
   "cell_type": "code",
   "execution_count": 7,
   "metadata": {
    "collapsed": true
   },
   "outputs": [],
   "source": [
    "## Функция для красивого вывода наиболее оптимальных параметров обучения\n",
    "def print_test_results(SearchCV, num=10, top=True):    \n",
    "    if top :return pd.DataFrame(SearchCV.cv_results_).sort_values(by='mean_test_score', ascending=False).head(num).T\n",
    "    return pd.DataFrame(SearchCV.cv_results_).sort_values(by='mean_test_score', ascending=False).tail(num).T"
   ]
  },
  {
   "cell_type": "code",
   "execution_count": 116,
   "metadata": {
    "collapsed": true
   },
   "outputs": [],
   "source": [
    "def get_vocabulary(corpus):\n",
    "    vectorizer = CountVectorizer(ngram_range=(1, 2))\n",
    "    vectorizer.fit(corpus)\n",
    "    return vectorizer.vocabulary_"
   ]
  },
  {
   "cell_type": "code",
   "execution_count": 8,
   "metadata": {
    "collapsed": true
   },
   "outputs": [],
   "source": [
    "train_data, test_data = get_data(True)ффф"
   ]
  },
  {
   "cell_type": "code",
   "execution_count": null,
   "metadata": {
    "collapsed": true,
    "scrolled": false
   },
   "outputs": [],
   "source": [
    "pd.set_option('max_colwidth',  1000)\n",
    "train_data.tail(20)"
   ]
  },
  {
   "cell_type": "code",
   "execution_count": null,
   "metadata": {
    "collapsed": true
   },
   "outputs": [],
   "source": [
    "train_data.head()"
   ]
  },
  {
   "cell_type": "code",
   "execution_count": 10,
   "metadata": {
    "collapsed": true
   },
   "outputs": [],
   "source": [
    "X_train, X_test, y_train, y_test = train_test_split((train_data.iloc[:, [-2:]].values),\n",
    "                                                    train_data.iloc[:, -3].values, \n",
    "                                                    test_size=0.33, random_state=42, shuffle=True)"
   ]
  },
  {
   "cell_type": "code",
   "execution_count": 68,
   "metadata": {},
   "outputs": [
    {
     "name": "stdout",
     "output_type": "stream",
     "text": [
      "31274.0 35726.0\n"
     ]
    }
   ],
   "source": [
    "print (len(np.where(y_train==1)[0])*0.5, len(np.where(y_train==0)[0])*0.5)"
   ]
  },
  {
   "cell_type": "code",
   "execution_count": 106,
   "metadata": {},
   "outputs": [],
   "source": [
    "np.random.seed(1001)\n",
    "\n",
    "positive_ind = np.random.choice(np.where(y_train==1)[0], int(len(np.where(y_train==1)[0])*0.5))\n",
    "negative_ind = np.random.choice(np.where(y_train==0)[0], int(len(np.where(y_train==0)[0])*0.5))\n",
    "\n",
    "rand_ind = np.hstack(( positive_ind, negative_ind))"
   ]
  },
  {
   "cell_type": "code",
   "execution_count": 107,
   "metadata": {
    "collapsed": true
   },
   "outputs": [],
   "source": [
    "rand_ind.sort()"
   ]
  },
  {
   "cell_type": "code",
   "execution_count": 108,
   "metadata": {
    "collapsed": true
   },
   "outputs": [],
   "source": [
    "X = X_train[rand_ind]\n",
    "y = y_train[rand_ind]"
   ]
  },
  {
   "cell_type": "code",
   "execution_count": 117,
   "metadata": {},
   "outputs": [],
   "source": [
    "pos_vocabulary = get_vocabulary(X_train[positive_ind])"
   ]
  },
  {
   "cell_type": "code",
   "execution_count": 83,
   "metadata": {},
   "outputs": [
    {
     "name": "stdout",
     "output_type": "stream",
     "text": [
      "31274 35726\n"
     ]
    }
   ],
   "source": [
    "print (len(np.where(y==1)[0]), len(np.where(y==0)[0]))"
   ]
  },
  {
   "cell_type": "code",
   "execution_count": 84,
   "metadata": {
    "collapsed": true
   },
   "outputs": [],
   "source": [
    "cv = StratifiedKFold(n_splits=5, random_state=123, shuffle=True)"
   ]
  },
  {
   "cell_type": "markdown",
   "metadata": {},
   "source": [
    "## Оценка SGD Classifier"
   ]
  },
  {
   "cell_type": "code",
   "execution_count": 113,
   "metadata": {},
   "outputs": [],
   "source": [
    "sgd_clf = Pipeline([\n",
    "    ('vect', CountVectorizer(vocabulary=pos_vocabulary)),    \n",
    "    ('clf', SGDClassifier(random_state=42, n_jobs=-1, alpha=0.001))\n",
    "])"
   ]
  },
  {
   "cell_type": "code",
   "execution_count": 86,
   "metadata": {},
   "outputs": [
    {
     "name": "stdout",
     "output_type": "stream",
     "text": [
      "Alpha:  0.001\n"
     ]
    },
    {
     "data": {
      "image/png": "[encoded data removed]",
      "text/plain": [
       "<matplotlib.figure.Figure at 0x1f1d26c75c0>"
      ]
     },
     "metadata": {},
     "output_type": "display_data"
    }
   ],
   "source": [
    "alpha = [0.00001, 0.0001, 0.001, 0.01, 1, 10]\n",
    "_, sgd_clf_alpha_test_scores = validation_curve(sgd_clf, X, y, \n",
    "                                                param_name='clf__alpha', param_range=alpha, \n",
    "                                                scoring='roc_auc', cv=cv, n_jobs=2)\n",
    "\n",
    "plt.plot(np.log(alpha), sgd_clf_alpha_test_scores.mean(axis=1))\n",
    "print(\"Alpha: \", alpha[np.where(sgd_clf_alpha_test_scores.mean(axis=1) == sgd_clf_alpha_test_scores.mean(axis=1).max())[0][0]])"
   ]
  },
  {
   "cell_type": "code",
   "execution_count": 114,
   "metadata": {},
   "outputs": [
    {
     "name": "stderr",
     "output_type": "stream",
     "text": [
      "C:\\Anaconda\\lib\\site-packages\\sklearn\\linear_model\\stochastic_gradient.py:128: FutureWarning: max_iter and tol parameters have been added in <class 'sklearn.linear_model.stochastic_gradient.SGDClassifier'> in 0.19. If both are left unset, they default to max_iter=5 and tol=None. If tol is not None, max_iter defaults to max_iter=1000. From 0.21, default max_iter will be 1000, and default tol will be 1e-3.\n",
      "  \"and default tol will be 1e-3.\" % type(self), FutureWarning)\n"
     ]
    },
    {
     "name": "stdout",
     "output_type": "stream",
     "text": [
      "ROC AUC Score:  0.956062382267\n"
     ]
    }
   ],
   "source": [
    "sgd_clf.fit(X, y)\n",
    "test_predict = sgd_clf.predict(X_test)\n",
    "\n",
    "\n",
    "print(\"ROC AUC Score: \", roc_auc_score(y_test, test_predict))"
   ]
  },
  {
   "cell_type": "code",
   "execution_count": null,
   "metadata": {
    "collapsed": true
   },
   "outputs": [],
   "source": []
  },
  {
   "cell_type": "code",
   "execution_count": null,
   "metadata": {
    "collapsed": true
   },
   "outputs": [],
   "source": [
    "parameters = [\n",
    "    {  \n",
    "        'vect': TfidfVectorizer(),\n",
    "        'vect__min_df': (0.01, 0.1, 0.5)\n",
    "        'vect__max_df': (1.0, 0.8, 0.5),\n",
    "        'vect__ngram_range': [(1,1), (1,2), (1,3)],\n",
    "        'tfidf__norm': ('l1', 'l2', None),\n",
    "        'tfidf__use_idf': (True, False),\n",
    "        'tfidf__smooth_idf': (True, False),\n",
    "        'clf__loss': ('hinge', 'log'),    \n",
    "        'clf__fit_intercept': (True, False)\n",
    "    },\n",
    "    {        \n",
    "        'vect__min_df': (0.01, 0.1, 0.5)\n",
    "        'vect__max_df': (1.0, 0.8, 0.5),\n",
    "        'vect__ngram_range': [(1,1), (1,2), (1,3)],\n",
    "        'clf__loss': ('hinge', 'log'),    \n",
    "        'clf__fit_intercept': (True, False)\n",
    "    }\n",
    "]\n",
    "    "
   ]
  },
  {
   "cell_type": "code",
   "execution_count": null,
   "metadata": {
    "collapsed": true
   },
   "outputs": [],
   "source": [
    "sgd_gs_clf = RandomizedSearchCV(sgd_clf, parameters, n_jobs=-1, cv=cv, scoring='roc_auc', random_state=123, n_iter=15)"
   ]
  },
  {
   "cell_type": "code",
   "execution_count": null,
   "metadata": {
    "collapsed": true
   },
   "outputs": [],
   "source": [
    "%%time\n",
    "\n",
    "sgd_gs_clf.fit(X, y).best_score_"
   ]
  },
  {
   "cell_type": "code",
   "execution_count": null,
   "metadata": {
    "collapsed": true
   },
   "outputs": [],
   "source": [
    "print_test_results(sgd_gs_clf)"
   ]
  },
  {
   "cell_type": "markdown",
   "metadata": {},
   "source": [
    "## Оценка Forest"
   ]
  },
  {
   "cell_type": "code",
   "execution_count": 131,
   "metadata": {
    "collapsed": true
   },
   "outputs": [],
   "source": [
    "frst_clf = Pipeline([('vect', CountVectorizer(ngram_range=(1,2), vocabulary=pos_vocabulary)),\n",
    "                     ('clf', RandomForestClassifier(random_state=123, n_jobs=-1,                                                 \n",
    "                                                    n_estimators=1000,  \n",
    "                                                    verbose=1,\n",
    "                                                  ))\n",
    "])"
   ]
  },
  {
   "cell_type": "code",
   "execution_count": 132,
   "metadata": {},
   "outputs": [
    {
     "name": "stderr",
     "output_type": "stream",
     "text": [
      "[Parallel(n_jobs=-1)]: Done  34 tasks      | elapsed:  1.9min\n",
      "[Parallel(n_jobs=-1)]: Done 184 tasks      | elapsed:  9.5min\n",
      "[Parallel(n_jobs=-1)]: Done 434 tasks      | elapsed: 21.8min\n",
      "[Parallel(n_jobs=-1)]: Done 784 tasks      | elapsed: 38.4min\n",
      "[Parallel(n_jobs=-1)]: Done 1000 out of 1000 | elapsed: 48.3min finished\n"
     ]
    },
    {
     "data": {
      "text/plain": [
       "Pipeline(memory=None,\n",
       "     steps=[('vect', CountVectorizer(analyzer='word', binary=False, decode_error='strict',\n",
       "        dtype=<class 'numpy.int64'>, encoding='utf-8', input='content',\n",
       "        lowercase=True, max_df=1.0, max_features=None, min_df=1,\n",
       "        ngram_range=(1, 2), preprocessor=None, stop_words=None,\n",
       "        strip...ators=1000, n_jobs=-1,\n",
       "            oob_score=False, random_state=123, verbose=1, warm_start=False))])"
      ]
     },
     "execution_count": 132,
     "metadata": {},
     "output_type": "execute_result"
    }
   ],
   "source": [
    "frst_clf.fit(X_train, y_train)"
   ]
  },
  {
   "cell_type": "code",
   "execution_count": 133,
   "metadata": {},
   "outputs": [
    {
     "name": "stderr",
     "output_type": "stream",
     "text": [
      "[Parallel(n_jobs=8)]: Done  34 tasks      | elapsed:    1.2s\n",
      "[Parallel(n_jobs=8)]: Done 184 tasks      | elapsed:    6.0s\n",
      "[Parallel(n_jobs=8)]: Done 434 tasks      | elapsed:   14.4s\n",
      "[Parallel(n_jobs=8)]: Done 784 tasks      | elapsed:   25.7s\n"
     ]
    },
    {
     "name": "stdout",
     "output_type": "stream",
     "text": [
      "ROC AUC Score:  0.965892695056\n"
     ]
    },
    {
     "name": "stderr",
     "output_type": "stream",
     "text": [
      "[Parallel(n_jobs=8)]: Done 1000 out of 1000 | elapsed:   32.8s finished\n"
     ]
    }
   ],
   "source": [
    "test_predict = frst_clf.predict(X_test)\n",
    "print(\"ROC AUC Score: \", roc_auc_score(y_test, test_predict))"
   ]
  },
  {
   "cell_type": "code",
   "execution_count": null,
   "metadata": {
    "collapsed": true
   },
   "outputs": [],
   "source": []
  },
  {
   "cell_type": "code",
   "execution_count": null,
   "metadata": {
    "collapsed": true
   },
   "outputs": [],
   "source": []
  },
  {
   "cell_type": "code",
   "execution_count": 11,
   "metadata": {
    "collapsed": true
   },
   "outputs": [],
   "source": [
    "frst_clf = Pipeline([('vect', CountVectorizer(min_df = 100, max_df=0.5, stop_words=['год', 'ооо'])),\n",
    "                     ('tfidf', TfidfTransformer(smooth_idf=False)),\n",
    "                     ('clf', RandomForestClassifier(random_state=123, n_jobs=-1, \n",
    "                                                    criterion='entropy', \n",
    "                                                    n_estimators=1300,  \n",
    "                                                    verbose=1,\n",
    "                                                    max_depth=25, min_samples_leaf=1,\n",
    "                                                    min_samples_split=10,\n",
    "                                                  ))\n",
    "])"
   ]
  },
  {
   "cell_type": "code",
   "execution_count": 12,
   "metadata": {},
   "outputs": [
    {
     "data": {
      "text/plain": [
       "array([ 0.9880641 ,  0.98823835,  0.98806061])"
      ]
     },
     "execution_count": 12,
     "metadata": {},
     "output_type": "execute_result"
    }
   ],
   "source": [
    "\n",
    "cross_val_score(frst_clf, X_train, y_train, scoring='roc_auc', cv=cv, n_jobs=-1, verbose=1)"
   ]
  },
  {
   "cell_type": "code",
   "execution_count": null,
   "metadata": {
    "collapsed": true
   },
   "outputs": [],
   "source": [
    "estimators = np.linspace(100, 2000, 10, dtype=int)\n",
    "\n",
    "_, forest_estimators_test_scores = validation_curve(frst_clf, X[:4000], y[:4000], param_name='clf__n_estimators', param_range=estimators, \n",
    "                 scoring='roc_auc', cv=cv, n_jobs=-1)"
   ]
  },
  {
   "cell_type": "code",
   "execution_count": null,
   "metadata": {
    "collapsed": true
   },
   "outputs": [],
   "source": [
    "plt.plot(estimators, forest_estimators_test_scores.mean(axis=1))"
   ]
  },
  {
   "cell_type": "code",
   "execution_count": null,
   "metadata": {
    "collapsed": true
   },
   "outputs": [],
   "source": [
    "depths = range(1, 50, 10)\n",
    "_, forest_max_depth_test_scores = validation_curve(frst_clf, X[:4000], y[:4000], param_name='clf__max_depth', param_range=depths, \n",
    "                 scoring='roc_auc', cv=cv, n_jobs=-1)"
   ]
  },
  {
   "cell_type": "code",
   "execution_count": null,
   "metadata": {
    "collapsed": true
   },
   "outputs": [],
   "source": [
    "plt.plot(depths, forest_max_depth_test_scores.mean(axis=1))"
   ]
  },
  {
   "cell_type": "code",
   "execution_count": null,
   "metadata": {
    "collapsed": true
   },
   "outputs": [],
   "source": [
    "%%time\n",
    "\n",
    "min_df = np.linspace(20, 500, 20, dtype=int)\n",
    "\n",
    "_, forest_min_df_test_scores = validation_curve(frst_clf, X, y, param_name='vect__min_df', param_range=min_df, \n",
    "                 scoring='roc_auc', cv=cv, n_jobs=-1)"
   ]
  },
  {
   "cell_type": "code",
   "execution_count": null,
   "metadata": {
    "collapsed": true
   },
   "outputs": [],
   "source": [
    "plt.plot(min_df, forest_min_df_test_scores.mean(axis=1))\n",
    "#print(min_df[np.where(forest_min_df_test_scores.max())], min_df, forest_min_df_test_scores.mean(axis=1).max())\n",
    "print(\"Min_df: \", min_df[np.where(forest_min_df_test_scores.mean(axis=1) == forest_min_df_test_scores.mean(axis=1).max())])"
   ]
  },
  {
   "cell_type": "code",
   "execution_count": null,
   "metadata": {
    "collapsed": true
   },
   "outputs": [],
   "source": [
    "parameters = {    \n",
    "    #'vect__max_df': (1.0, 0.8, 0.5),\n",
    "    #'vect__min_df': (100, 500),\n",
    "    'vect__ngram_range': [(1,1), (1,2), (1,3)],\n",
    "    'tfidf__norm': (None, 'l2', 'l1'),\n",
    "    'tfidf__use_idf': (True, False),\n",
    "    'tfidf__smooth_idf': (True, False),    \n",
    "    #'clf__n_estimators': np.linspace(900, 2500, 5, dtype=int),\n",
    "    #'clf__criterion': ('entropy', 'gini'),\n",
    "    #'clf__max_depth': np.linspace(10, 30, 5, dtype=int),\n",
    "    #'clf__min_samples_split': (2, 10, 20),\n",
    "    #'clf__min_samples_leaf': (1, 10, 50),   \n",
    "}"
   ]
  },
  {
   "cell_type": "code",
   "execution_count": null,
   "metadata": {
    "collapsed": true
   },
   "outputs": [],
   "source": [
    "frst_gs_clf = RandomizedSearchCV(frst_clf, parameters, n_jobs=-1, cv=cv, scoring='roc_auc', random_state=123, n_iter=10)"
   ]
  },
  {
   "cell_type": "code",
   "execution_count": null,
   "metadata": {
    "collapsed": true
   },
   "outputs": [],
   "source": [
    "%%time\n",
    "\n",
    "frst_gs_clf.fit(X, y).best_score_"
   ]
  },
  {
   "cell_type": "code",
   "execution_count": null,
   "metadata": {
    "collapsed": true,
    "scrolled": false
   },
   "outputs": [],
   "source": [
    "print_test_results(frst_gs_clf)"
   ]
  },
  {
   "cell_type": "code",
   "execution_count": 16,
   "metadata": {
    "collapsed": true
   },
   "outputs": [],
   "source": [
    "frst_clf2 = Pipeline([('vect', CountVectorizer(min_df = 100, max_df=0.7)),                     \n",
    "                     ('clf', RandomForestClassifier(random_state=123, n_jobs=-1, \n",
    "                                                    criterion='entropy', \n",
    "                                                    n_estimators=1300,                                                     \n",
    "                                                    max_depth=25, min_samples_leaf=1,\n",
    "                                                    min_samples_split=10,\n",
    "                                                    ))\n",
    "])"
   ]
  },
  {
   "cell_type": "code",
   "execution_count": 17,
   "metadata": {
    "collapsed": true
   },
   "outputs": [],
   "source": [
    "frst_clf = None"
   ]
  },
  {
   "cell_type": "code",
   "execution_count": 18,
   "metadata": {
    "collapsed": true
   },
   "outputs": [],
   "source": [
    "del(frst_clf)"
   ]
  },
  {
   "cell_type": "code",
   "execution_count": null,
   "metadata": {
    "collapsed": true
   },
   "outputs": [],
   "source": [
    "# stop_words=['год', 'ооо']\n",
    "parameters = {    \n",
    "    #'vect__max_df': (1.0, 0.8, 0.5),\n",
    "    #'vect__min_df': (100, 500),\n",
    "    #'vect__ngram_range': [(1,1), (1,2), (1,3)], \n",
    "    #'clf__n_estimators': np.linspace(900, 2500, 5, dtype=int),\n",
    "    #'clf__criterion': ('entropy', 'gini'),\n",
    "    #'clf__max_depth': np.linspace(10, 30, 5, dtype=int),ф\n",
    "    #'clf__min_samples_split': (2, 10, 20),\n",
    "    #'clf__min_samples_leaf': (1, 10, 50),   \n",
    "}"
   ]
  },
  {
   "cell_type": "code",
   "execution_count": 19,
   "metadata": {},
   "outputs": [
    {
     "ename": "JoblibMemoryError",
     "evalue": "JoblibMemoryError\n___________________________________________________________________________\nMultiprocessing exception:\n...........................................................................\nC:\\Anaconda\\lib\\runpy.py in _run_module_as_main(mod_name='ipykernel.__main__', alter_argv=1)\n    188         sys.exit(msg)\n    189     main_globals = sys.modules[\"__main__\"].__dict__\n    190     if alter_argv:\n    191         sys.argv[0] = mod_spec.origin\n    192     return _run_code(code, main_globals, None,\n--> 193                      \"__main__\", mod_spec)\n        mod_spec = ModuleSpec(name='ipykernel.__main__', loader=<_f...nda\\\\lib\\\\site-packages\\\\ipykernel\\\\__main__.py')\n    194 \n    195 def run_module(mod_name, init_globals=None,\n    196                run_name=None, alter_sys=False):\n    197     \"\"\"Execute a module's code without importing it\n\n...........................................................................\nC:\\Anaconda\\lib\\runpy.py in _run_code(code=<code object <module> at 0x0000023391BD4780, fil...lib\\site-packages\\ipykernel\\__main__.py\", line 1>, run_globals={'__annotations__': {}, '__builtins__': <module 'builtins' (built-in)>, '__cached__': r'C:\\Anaconda\\lib\\site-packages\\ipykernel\\__pycache__\\__main__.cpython-36.pyc', '__doc__': None, '__file__': r'C:\\Anaconda\\lib\\site-packages\\ipykernel\\__main__.py', '__loader__': <_frozen_importlib_external.SourceFileLoader object>, '__name__': '__main__', '__package__': 'ipykernel', '__spec__': ModuleSpec(name='ipykernel.__main__', loader=<_f...nda\\\\lib\\\\site-packages\\\\ipykernel\\\\__main__.py'), 'app': <module 'ipykernel.kernelapp' from 'C:\\\\Anaconda\\\\lib\\\\site-packages\\\\ipykernel\\\\kernelapp.py'>}, init_globals=None, mod_name='__main__', mod_spec=ModuleSpec(name='ipykernel.__main__', loader=<_f...nda\\\\lib\\\\site-packages\\\\ipykernel\\\\__main__.py'), pkg_name='ipykernel', script_name=None)\n     80                        __cached__ = cached,\n     81                        __doc__ = None,\n     82                        __loader__ = loader,\n     83                        __package__ = pkg_name,\n     84                        __spec__ = mod_spec)\n---> 85     exec(code, run_globals)\n        code = <code object <module> at 0x0000023391BD4780, fil...lib\\site-packages\\ipykernel\\__main__.py\", line 1>\n        run_globals = {'__annotations__': {}, '__builtins__': <module 'builtins' (built-in)>, '__cached__': r'C:\\Anaconda\\lib\\site-packages\\ipykernel\\__pycache__\\__main__.cpython-36.pyc', '__doc__': None, '__file__': r'C:\\Anaconda\\lib\\site-packages\\ipykernel\\__main__.py', '__loader__': <_frozen_importlib_external.SourceFileLoader object>, '__name__': '__main__', '__package__': 'ipykernel', '__spec__': ModuleSpec(name='ipykernel.__main__', loader=<_f...nda\\\\lib\\\\site-packages\\\\ipykernel\\\\__main__.py'), 'app': <module 'ipykernel.kernelapp' from 'C:\\\\Anaconda\\\\lib\\\\site-packages\\\\ipykernel\\\\kernelapp.py'>}\n     86     return run_globals\n     87 \n     88 def _run_module_code(code, init_globals=None,\n     89                     mod_name=None, mod_spec=None,\n\n...........................................................................\nC:\\Anaconda\\lib\\site-packages\\ipykernel\\__main__.py in <module>()\n      1 if __name__ == '__main__':\n      2     from ipykernel import kernelapp as app\n----> 3     app.launch_new_instance()\n\n...........................................................................\nC:\\Anaconda\\lib\\site-packages\\traitlets\\config\\application.py in launch_instance(cls=<class 'ipykernel.kernelapp.IPKernelApp'>, argv=None, **kwargs={})\n    653 \n    654         If a global instance already exists, this reinitializes and starts it\n    655         \"\"\"\n    656         app = cls.instance(**kwargs)\n    657         app.initialize(argv)\n--> 658         app.start()\n        app.start = <bound method IPKernelApp.start of <ipykernel.kernelapp.IPKernelApp object>>\n    659 \n    660 #-----------------------------------------------------------------------------\n    661 # utility functions, for convenience\n    662 #-----------------------------------------------------------------------------\n\n...........................................................................\nC:\\Anaconda\\lib\\site-packages\\ipykernel\\kernelapp.py in start(self=<ipykernel.kernelapp.IPKernelApp object>)\n    472             return self.subapp.start()\n    473         if self.poller is not None:\n    474             self.poller.start()\n    475         self.kernel.start()\n    476         try:\n--> 477             ioloop.IOLoop.instance().start()\n    478         except KeyboardInterrupt:\n    479             pass\n    480 \n    481 launch_new_instance = IPKernelApp.launch_instance\n\n...........................................................................\nC:\\Anaconda\\lib\\site-packages\\zmq\\eventloop\\ioloop.py in start(self=<zmq.eventloop.ioloop.ZMQIOLoop object>)\n    172             )\n    173         return loop\n    174     \n    175     def start(self):\n    176         try:\n--> 177             super(ZMQIOLoop, self).start()\n        self.start = <bound method ZMQIOLoop.start of <zmq.eventloop.ioloop.ZMQIOLoop object>>\n    178         except ZMQError as e:\n    179             if e.errno == ETERM:\n    180                 # quietly return on ETERM\n    181                 pass\n\n...........................................................................\nC:\\Anaconda\\lib\\site-packages\\tornado\\ioloop.py in start(self=<zmq.eventloop.ioloop.ZMQIOLoop object>)\n    883                 self._events.update(event_pairs)\n    884                 while self._events:\n    885                     fd, events = self._events.popitem()\n    886                     try:\n    887                         fd_obj, handler_func = self._handlers[fd]\n--> 888                         handler_func(fd_obj, events)\n        handler_func = <function wrap.<locals>.null_wrapper>\n        fd_obj = <zmq.sugar.socket.Socket object>\n        events = 1\n    889                     except (OSError, IOError) as e:\n    890                         if errno_from_exception(e) == errno.EPIPE:\n    891                             # Happens when the client closes the connection\n    892                             pass\n\n...........................................................................\nC:\\Anaconda\\lib\\site-packages\\tornado\\stack_context.py in null_wrapper(*args=(<zmq.sugar.socket.Socket object>, 1), **kwargs={})\n    272         # Fast path when there are no active contexts.\n    273         def null_wrapper(*args, **kwargs):\n    274             try:\n    275                 current_state = _state.contexts\n    276                 _state.contexts = cap_contexts[0]\n--> 277                 return fn(*args, **kwargs)\n        args = (<zmq.sugar.socket.Socket object>, 1)\n        kwargs = {}\n    278             finally:\n    279                 _state.contexts = current_state\n    280         null_wrapper._wrapped = True\n    281         return null_wrapper\n\n...........................................................................\nC:\\Anaconda\\lib\\site-packages\\zmq\\eventloop\\zmqstream.py in _handle_events(self=<zmq.eventloop.zmqstream.ZMQStream object>, fd=<zmq.sugar.socket.Socket object>, events=1)\n    435             # dispatch events:\n    436             if events & IOLoop.ERROR:\n    437                 gen_log.error(\"got POLLERR event on ZMQStream, which doesn't make sense\")\n    438                 return\n    439             if events & IOLoop.READ:\n--> 440                 self._handle_recv()\n        self._handle_recv = <bound method ZMQStream._handle_recv of <zmq.eventloop.zmqstream.ZMQStream object>>\n    441                 if not self.socket:\n    442                     return\n    443             if events & IOLoop.WRITE:\n    444                 self._handle_send()\n\n...........................................................................\nC:\\Anaconda\\lib\\site-packages\\zmq\\eventloop\\zmqstream.py in _handle_recv(self=<zmq.eventloop.zmqstream.ZMQStream object>)\n    467                 gen_log.error(\"RECV Error: %s\"%zmq.strerror(e.errno))\n    468         else:\n    469             if self._recv_callback:\n    470                 callback = self._recv_callback\n    471                 # self._recv_callback = None\n--> 472                 self._run_callback(callback, msg)\n        self._run_callback = <bound method ZMQStream._run_callback of <zmq.eventloop.zmqstream.ZMQStream object>>\n        callback = <function wrap.<locals>.null_wrapper>\n        msg = [<zmq.sugar.frame.Frame object>, <zmq.sugar.frame.Frame object>, <zmq.sugar.frame.Frame object>, <zmq.sugar.frame.Frame object>, <zmq.sugar.frame.Frame object>, <zmq.sugar.frame.Frame object>, <zmq.sugar.frame.Frame object>]\n    473                 \n    474         # self.update_state()\n    475         \n    476 \n\n...........................................................................\nC:\\Anaconda\\lib\\site-packages\\zmq\\eventloop\\zmqstream.py in _run_callback(self=<zmq.eventloop.zmqstream.ZMQStream object>, callback=<function wrap.<locals>.null_wrapper>, *args=([<zmq.sugar.frame.Frame object>, <zmq.sugar.frame.Frame object>, <zmq.sugar.frame.Frame object>, <zmq.sugar.frame.Frame object>, <zmq.sugar.frame.Frame object>, <zmq.sugar.frame.Frame object>, <zmq.sugar.frame.Frame object>],), **kwargs={})\n    409         close our socket.\"\"\"\n    410         try:\n    411             # Use a NullContext to ensure that all StackContexts are run\n    412             # inside our blanket exception handler rather than outside.\n    413             with stack_context.NullContext():\n--> 414                 callback(*args, **kwargs)\n        callback = <function wrap.<locals>.null_wrapper>\n        args = ([<zmq.sugar.frame.Frame object>, <zmq.sugar.frame.Frame object>, <zmq.sugar.frame.Frame object>, <zmq.sugar.frame.Frame object>, <zmq.sugar.frame.Frame object>, <zmq.sugar.frame.Frame object>, <zmq.sugar.frame.Frame object>],)\n        kwargs = {}\n    415         except:\n    416             gen_log.error(\"Uncaught exception, closing connection.\",\n    417                           exc_info=True)\n    418             # Close the socket on an uncaught exception from a user callback\n\n...........................................................................\nC:\\Anaconda\\lib\\site-packages\\tornado\\stack_context.py in null_wrapper(*args=([<zmq.sugar.frame.Frame object>, <zmq.sugar.frame.Frame object>, <zmq.sugar.frame.Frame object>, <zmq.sugar.frame.Frame object>, <zmq.sugar.frame.Frame object>, <zmq.sugar.frame.Frame object>, <zmq.sugar.frame.Frame object>],), **kwargs={})\n    272         # Fast path when there are no active contexts.\n    273         def null_wrapper(*args, **kwargs):\n    274             try:\n    275                 current_state = _state.contexts\n    276                 _state.contexts = cap_contexts[0]\n--> 277                 return fn(*args, **kwargs)\n        args = ([<zmq.sugar.frame.Frame object>, <zmq.sugar.frame.Frame object>, <zmq.sugar.frame.Frame object>, <zmq.sugar.frame.Frame object>, <zmq.sugar.frame.Frame object>, <zmq.sugar.frame.Frame object>, <zmq.sugar.frame.Frame object>],)\n        kwargs = {}\n    278             finally:\n    279                 _state.contexts = current_state\n    280         null_wrapper._wrapped = True\n    281         return null_wrapper\n\n...........................................................................\nC:\\Anaconda\\lib\\site-packages\\ipykernel\\kernelbase.py in dispatcher(msg=[<zmq.sugar.frame.Frame object>, <zmq.sugar.frame.Frame object>, <zmq.sugar.frame.Frame object>, <zmq.sugar.frame.Frame object>, <zmq.sugar.frame.Frame object>, <zmq.sugar.frame.Frame object>, <zmq.sugar.frame.Frame object>])\n    278         if self.control_stream:\n    279             self.control_stream.on_recv(self.dispatch_control, copy=False)\n    280 \n    281         def make_dispatcher(stream):\n    282             def dispatcher(msg):\n--> 283                 return self.dispatch_shell(stream, msg)\n        msg = [<zmq.sugar.frame.Frame object>, <zmq.sugar.frame.Frame object>, <zmq.sugar.frame.Frame object>, <zmq.sugar.frame.Frame object>, <zmq.sugar.frame.Frame object>, <zmq.sugar.frame.Frame object>, <zmq.sugar.frame.Frame object>]\n    284             return dispatcher\n    285 \n    286         for s in self.shell_streams:\n    287             s.on_recv(make_dispatcher(s), copy=False)\n\n...........................................................................\nC:\\Anaconda\\lib\\site-packages\\ipykernel\\kernelbase.py in dispatch_shell(self=<ipykernel.ipkernel.IPythonKernel object>, stream=<zmq.eventloop.zmqstream.ZMQStream object>, msg={'buffers': [], 'content': {'allow_stdin': True, 'code': 'if __name__ == \"__main__\":   \\n    cross_val_scor..., scoring=\\'roc_auc\\', cv=cv, n_jobs=-1, verbose=1)', 'silent': False, 'stop_on_error': True, 'store_history': True, 'user_expressions': {}}, 'header': {'date': datetime.datetime(2018, 3, 7, 20, 5, 23, 805298, tzinfo=tzutc()), 'msg_id': 'FD2B2435930947858AA95BEA4373A1F4', 'msg_type': 'execute_request', 'session': '4A5F545404194DA880F38A84F572B8AE', 'username': 'username', 'version': '5.0'}, 'metadata': {}, 'msg_id': 'FD2B2435930947858AA95BEA4373A1F4', 'msg_type': 'execute_request', 'parent_header': {}})\n    230             self.log.warn(\"Unknown message type: %r\", msg_type)\n    231         else:\n    232             self.log.debug(\"%s: %s\", msg_type, msg)\n    233             self.pre_handler_hook()\n    234             try:\n--> 235                 handler(stream, idents, msg)\n        handler = <bound method Kernel.execute_request of <ipykernel.ipkernel.IPythonKernel object>>\n        stream = <zmq.eventloop.zmqstream.ZMQStream object>\n        idents = [b'4A5F545404194DA880F38A84F572B8AE']\n        msg = {'buffers': [], 'content': {'allow_stdin': True, 'code': 'if __name__ == \"__main__\":   \\n    cross_val_scor..., scoring=\\'roc_auc\\', cv=cv, n_jobs=-1, verbose=1)', 'silent': False, 'stop_on_error': True, 'store_history': True, 'user_expressions': {}}, 'header': {'date': datetime.datetime(2018, 3, 7, 20, 5, 23, 805298, tzinfo=tzutc()), 'msg_id': 'FD2B2435930947858AA95BEA4373A1F4', 'msg_type': 'execute_request', 'session': '4A5F545404194DA880F38A84F572B8AE', 'username': 'username', 'version': '5.0'}, 'metadata': {}, 'msg_id': 'FD2B2435930947858AA95BEA4373A1F4', 'msg_type': 'execute_request', 'parent_header': {}}\n    236             except Exception:\n    237                 self.log.error(\"Exception in message handler:\", exc_info=True)\n    238             finally:\n    239                 self.post_handler_hook()\n\n...........................................................................\nC:\\Anaconda\\lib\\site-packages\\ipykernel\\kernelbase.py in execute_request(self=<ipykernel.ipkernel.IPythonKernel object>, stream=<zmq.eventloop.zmqstream.ZMQStream object>, ident=[b'4A5F545404194DA880F38A84F572B8AE'], parent={'buffers': [], 'content': {'allow_stdin': True, 'code': 'if __name__ == \"__main__\":   \\n    cross_val_scor..., scoring=\\'roc_auc\\', cv=cv, n_jobs=-1, verbose=1)', 'silent': False, 'stop_on_error': True, 'store_history': True, 'user_expressions': {}}, 'header': {'date': datetime.datetime(2018, 3, 7, 20, 5, 23, 805298, tzinfo=tzutc()), 'msg_id': 'FD2B2435930947858AA95BEA4373A1F4', 'msg_type': 'execute_request', 'session': '4A5F545404194DA880F38A84F572B8AE', 'username': 'username', 'version': '5.0'}, 'metadata': {}, 'msg_id': 'FD2B2435930947858AA95BEA4373A1F4', 'msg_type': 'execute_request', 'parent_header': {}})\n    394         if not silent:\n    395             self.execution_count += 1\n    396             self._publish_execute_input(code, parent, self.execution_count)\n    397 \n    398         reply_content = self.do_execute(code, silent, store_history,\n--> 399                                         user_expressions, allow_stdin)\n        user_expressions = {}\n        allow_stdin = True\n    400 \n    401         # Flush output before sending the reply.\n    402         sys.stdout.flush()\n    403         sys.stderr.flush()\n\n...........................................................................\nC:\\Anaconda\\lib\\site-packages\\ipykernel\\ipkernel.py in do_execute(self=<ipykernel.ipkernel.IPythonKernel object>, code='if __name__ == \"__main__\":   \\n    cross_val_scor..., scoring=\\'roc_auc\\', cv=cv, n_jobs=-1, verbose=1)', silent=False, store_history=True, user_expressions={}, allow_stdin=True)\n    191 \n    192         self._forward_input(allow_stdin)\n    193 \n    194         reply_content = {}\n    195         try:\n--> 196             res = shell.run_cell(code, store_history=store_history, silent=silent)\n        res = undefined\n        shell.run_cell = <bound method ZMQInteractiveShell.run_cell of <ipykernel.zmqshell.ZMQInteractiveShell object>>\n        code = 'if __name__ == \"__main__\":   \\n    cross_val_scor..., scoring=\\'roc_auc\\', cv=cv, n_jobs=-1, verbose=1)'\n        store_history = True\n        silent = False\n    197         finally:\n    198             self._restore_input()\n    199 \n    200         if res.error_before_exec is not None:\n\n...........................................................................\nC:\\Anaconda\\lib\\site-packages\\ipykernel\\zmqshell.py in run_cell(self=<ipykernel.zmqshell.ZMQInteractiveShell object>, *args=('if __name__ == \"__main__\":   \\n    cross_val_scor..., scoring=\\'roc_auc\\', cv=cv, n_jobs=-1, verbose=1)',), **kwargs={'silent': False, 'store_history': True})\n    528             )\n    529         self.payload_manager.write_payload(payload)\n    530 \n    531     def run_cell(self, *args, **kwargs):\n    532         self._last_traceback = None\n--> 533         return super(ZMQInteractiveShell, self).run_cell(*args, **kwargs)\n        self.run_cell = <bound method ZMQInteractiveShell.run_cell of <ipykernel.zmqshell.ZMQInteractiveShell object>>\n        args = ('if __name__ == \"__main__\":   \\n    cross_val_scor..., scoring=\\'roc_auc\\', cv=cv, n_jobs=-1, verbose=1)',)\n        kwargs = {'silent': False, 'store_history': True}\n    534 \n    535     def _showtraceback(self, etype, evalue, stb):\n    536         # try to preserve ordering of tracebacks and print statements\n    537         sys.stdout.flush()\n\n...........................................................................\nC:\\Anaconda\\lib\\site-packages\\IPython\\core\\interactiveshell.py in run_cell(self=<ipykernel.zmqshell.ZMQInteractiveShell object>, raw_cell='if __name__ == \"__main__\":   \\n    cross_val_scor..., scoring=\\'roc_auc\\', cv=cv, n_jobs=-1, verbose=1)', store_history=True, silent=False, shell_futures=True)\n   2693                 self.displayhook.exec_result = result\n   2694 \n   2695                 # Execute the user code\n   2696                 interactivity = \"none\" if silent else self.ast_node_interactivity\n   2697                 has_raised = self.run_ast_nodes(code_ast.body, cell_name,\n-> 2698                    interactivity=interactivity, compiler=compiler, result=result)\n        interactivity = 'last_expr'\n        compiler = <IPython.core.compilerop.CachingCompiler object>\n   2699                 \n   2700                 self.last_execution_succeeded = not has_raised\n   2701 \n   2702                 # Reset this so later displayed values do not modify the\n\n...........................................................................\nC:\\Anaconda\\lib\\site-packages\\IPython\\core\\interactiveshell.py in run_ast_nodes(self=<ipykernel.zmqshell.ZMQInteractiveShell object>, nodelist=[<_ast.If object>], cell_name='<ipython-input-19-ba18760b29c7>', interactivity='none', compiler=<IPython.core.compilerop.CachingCompiler object>, result=<ExecutionResult object at 233a9170e80, executio..._before_exec=None error_in_exec=None result=None>)\n   2797 \n   2798         try:\n   2799             for i, node in enumerate(to_run_exec):\n   2800                 mod = ast.Module([node])\n   2801                 code = compiler(mod, cell_name, \"exec\")\n-> 2802                 if self.run_code(code, result):\n        self.run_code = <bound method InteractiveShell.run_code of <ipykernel.zmqshell.ZMQInteractiveShell object>>\n        code = <code object <module> at 0x00000233A911A300, file \"<ipython-input-19-ba18760b29c7>\", line 1>\n        result = <ExecutionResult object at 233a9170e80, executio..._before_exec=None error_in_exec=None result=None>\n   2803                     return True\n   2804 \n   2805             for i, node in enumerate(to_run_interactive):\n   2806                 mod = ast.Interactive([node])\n\n...........................................................................\nC:\\Anaconda\\lib\\site-packages\\IPython\\core\\interactiveshell.py in run_code(self=<ipykernel.zmqshell.ZMQInteractiveShell object>, code_obj=<code object <module> at 0x00000233A911A300, file \"<ipython-input-19-ba18760b29c7>\", line 1>, result=<ExecutionResult object at 233a9170e80, executio..._before_exec=None error_in_exec=None result=None>)\n   2857         outflag = True  # happens in more places, so it's easier as default\n   2858         try:\n   2859             try:\n   2860                 self.hooks.pre_run_code_hook()\n   2861                 #rprint('Running code', repr(code_obj)) # dbg\n-> 2862                 exec(code_obj, self.user_global_ns, self.user_ns)\n        code_obj = <code object <module> at 0x00000233A911A300, file \"<ipython-input-19-ba18760b29c7>\", line 1>\n        self.user_global_ns = {'BeautifulSoup': <class 'bs4.BeautifulSoup'>, 'CountVectorizer': <class 'sklearn.feature_extraction.text.CountVectorizer'>, 'FeatureUnion': <class 'sklearn.pipeline.FeatureUnion'>, 'GridSearchCV': <class 'sklearn.model_selection._search.GridSearchCV'>, 'In': ['', 'import pandas as pd\\nfrom bs4 import BeautifulSou...hy2\\nimport pymystem3\\nimport re\\nimport numpy as np', 'from sklearn.pipeline import Pipeline\\nfrom sklea...import roc_auc_score, confusion_matrix, roc_curve', \"import matplotlib.pyplot as plt\\n\\n\\nget_ipython()....ggplot')\\nplt.rcParams['figure.figsize'] = (12, 8)\", \"def set_answer(predictions, file_name):\\n    data...('data/'+str(file_name)+'.csv', index_label='id')\", \"def get_data(processed=False):\\n    if processed:...dex_col='id') \\n    return (train_data, test_data)\", '## Токенизатор \\n\\nmorph = pymorphy2.MorphAnalyzer...=[str])              \\n    return processed(texts)', \"## Функция для красивого вывода наиболее оптимал...y='mean_test_score', ascending=False).tail(num).T\", 'train_data, test_data = get_data(True)', 'X_train, X_test, y_train, y_test = train_test_sp...   test_size=0.33, random_state=42, shuffle=True)', 'cv = StratifiedKFold(n_splits=3, random_state=123, shuffle=True)', \"frst_clf = Pipeline([('vect', CountVectorizer(mi...                                            ))\\n])\", \"cross_val_score(frst_clf, X_train, y_train, scoring='roc_auc', cv=cv, n_jobs=-1)\", \"frst_clf2 = Pipeline([('vect', CountVectorizer(m...                                            ))\\n])\", 'if __name__ == \"__main__\"::    \\n    cross_val_sc..., scoring=\\'roc_auc\\', cv=cv, n_jobs=-1, verbose=1)', 'if __name__ == \"__main__\":   \\n    cross_val_scor..., scoring=\\'roc_auc\\', cv=cv, n_jobs=-1, verbose=1)', \"frst_clf2 = Pipeline([('vect', CountVectorizer(m...                                            ))\\n])\", 'frst_clf = None', 'del(frst_clf)', 'if __name__ == \"__main__\":   \\n    cross_val_scor..., scoring=\\'roc_auc\\', cv=cv, n_jobs=-1, verbose=1)'], 'LogisticRegression': <class 'sklearn.linear_model.logistic.LogisticRegression'>, 'Out': {12: array([ 0.9880641 ,  0.98823835,  0.98806061])}, 'Pipeline': <class 'sklearn.pipeline.Pipeline'>, 'RandomForestClassifier': <class 'sklearn.ensemble.forest.RandomForestClassifier'>, 'RandomizedSearchCV': <class 'sklearn.model_selection._search.RandomizedSearchCV'>, ...}\n        self.user_ns = {'BeautifulSoup': <class 'bs4.BeautifulSoup'>, 'CountVectorizer': <class 'sklearn.feature_extraction.text.CountVectorizer'>, 'FeatureUnion': <class 'sklearn.pipeline.FeatureUnion'>, 'GridSearchCV': <class 'sklearn.model_selection._search.GridSearchCV'>, 'In': ['', 'import pandas as pd\\nfrom bs4 import BeautifulSou...hy2\\nimport pymystem3\\nimport re\\nimport numpy as np', 'from sklearn.pipeline import Pipeline\\nfrom sklea...import roc_auc_score, confusion_matrix, roc_curve', \"import matplotlib.pyplot as plt\\n\\n\\nget_ipython()....ggplot')\\nplt.rcParams['figure.figsize'] = (12, 8)\", \"def set_answer(predictions, file_name):\\n    data...('data/'+str(file_name)+'.csv', index_label='id')\", \"def get_data(processed=False):\\n    if processed:...dex_col='id') \\n    return (train_data, test_data)\", '## Токенизатор \\n\\nmorph = pymorphy2.MorphAnalyzer...=[str])              \\n    return processed(texts)', \"## Функция для красивого вывода наиболее оптимал...y='mean_test_score', ascending=False).tail(num).T\", 'train_data, test_data = get_data(True)', 'X_train, X_test, y_train, y_test = train_test_sp...   test_size=0.33, random_state=42, shuffle=True)', 'cv = StratifiedKFold(n_splits=3, random_state=123, shuffle=True)', \"frst_clf = Pipeline([('vect', CountVectorizer(mi...                                            ))\\n])\", \"cross_val_score(frst_clf, X_train, y_train, scoring='roc_auc', cv=cv, n_jobs=-1)\", \"frst_clf2 = Pipeline([('vect', CountVectorizer(m...                                            ))\\n])\", 'if __name__ == \"__main__\"::    \\n    cross_val_sc..., scoring=\\'roc_auc\\', cv=cv, n_jobs=-1, verbose=1)', 'if __name__ == \"__main__\":   \\n    cross_val_scor..., scoring=\\'roc_auc\\', cv=cv, n_jobs=-1, verbose=1)', \"frst_clf2 = Pipeline([('vect', CountVectorizer(m...                                            ))\\n])\", 'frst_clf = None', 'del(frst_clf)', 'if __name__ == \"__main__\":   \\n    cross_val_scor..., scoring=\\'roc_auc\\', cv=cv, n_jobs=-1, verbose=1)'], 'LogisticRegression': <class 'sklearn.linear_model.logistic.LogisticRegression'>, 'Out': {12: array([ 0.9880641 ,  0.98823835,  0.98806061])}, 'Pipeline': <class 'sklearn.pipeline.Pipeline'>, 'RandomForestClassifier': <class 'sklearn.ensemble.forest.RandomForestClassifier'>, 'RandomizedSearchCV': <class 'sklearn.model_selection._search.RandomizedSearchCV'>, ...}\n   2863             finally:\n   2864                 # Reset our crash handler in place\n   2865                 sys.excepthook = old_excepthook\n   2866         except SystemExit as e:\n\n...........................................................................\nC:\\Users\\ml-unifam\\notebooks\\hw_05\\<ipython-input-19-ba18760b29c7> in <module>()\n      1 if __name__ == \"__main__\":   \n----> 2     cross_val_score(frst_clf2, X_train, y_train, scoring='roc_auc', cv=cv, n_jobs=-1, verbose=1)\n\n...........................................................................\nC:\\Anaconda\\lib\\site-packages\\sklearn\\model_selection\\_validation.py in cross_val_score(estimator=Pipeline(memory=None,\n     steps=[('vect', Count...random_state=123, verbose=0, warm_start=False))]), X=array([ 'менеджер продажа лакокрасочный материал...сделать сейчас вакансия'], \n      dtype='<U8417'), y=array([1, 0, 0, ..., 0, 1, 1], dtype=int64), groups=None, scoring='roc_auc', cv=StratifiedKFold(n_splits=3, random_state=123, shuffle=True), n_jobs=-1, verbose=1, fit_params=None, pre_dispatch='2*n_jobs')\n    337     cv_results = cross_validate(estimator=estimator, X=X, y=y, groups=groups,\n    338                                 scoring={'score': scorer}, cv=cv,\n    339                                 return_train_score=False,\n    340                                 n_jobs=n_jobs, verbose=verbose,\n    341                                 fit_params=fit_params,\n--> 342                                 pre_dispatch=pre_dispatch)\n        pre_dispatch = '2*n_jobs'\n    343     return cv_results['test_score']\n    344 \n    345 \n    346 def _fit_and_score(estimator, X, y, scorer, train, test, verbose,\n\n...........................................................................\nC:\\Anaconda\\lib\\site-packages\\sklearn\\model_selection\\_validation.py in cross_validate(estimator=Pipeline(memory=None,\n     steps=[('vect', Count...random_state=123, verbose=0, warm_start=False))]), X=array([ 'менеджер продажа лакокрасочный материал...сделать сейчас вакансия'], \n      dtype='<U8417'), y=array([1, 0, 0, ..., 0, 1, 1], dtype=int64), groups=None, scoring={'score': make_scorer(roc_auc_score, needs_threshold=True)}, cv=StratifiedKFold(n_splits=3, random_state=123, shuffle=True), n_jobs=-1, verbose=1, fit_params=None, pre_dispatch='2*n_jobs', return_train_score=False)\n    201     scores = parallel(\n    202         delayed(_fit_and_score)(\n    203             clone(estimator), X, y, scorers, train, test, verbose, None,\n    204             fit_params, return_train_score=return_train_score,\n    205             return_times=True)\n--> 206         for train, test in cv.split(X, y, groups))\n        cv.split = <bound method StratifiedKFold.split of StratifiedKFold(n_splits=3, random_state=123, shuffle=True)>\n        X = array([ 'менеджер продажа лакокрасочный материал...сделать сейчас вакансия'], \n      dtype='<U8417')\n        y = array([1, 0, 0, ..., 0, 1, 1], dtype=int64)\n        groups = None\n    207 \n    208     if return_train_score:\n    209         train_scores, test_scores, fit_times, score_times = zip(*scores)\n    210         train_scores = _aggregate_score_dicts(train_scores)\n\n...........................................................................\nC:\\Anaconda\\lib\\site-packages\\sklearn\\externals\\joblib\\parallel.py in __call__(self=Parallel(n_jobs=-1), iterable=<generator object cross_validate.<locals>.<genexpr>>)\n    784             if pre_dispatch == \"all\" or n_jobs == 1:\n    785                 # The iterable was consumed all at once by the above for loop.\n    786                 # No need to wait for async callbacks to trigger to\n    787                 # consumption.\n    788                 self._iterating = False\n--> 789             self.retrieve()\n        self.retrieve = <bound method Parallel.retrieve of Parallel(n_jobs=-1)>\n    790             # Make sure that we get a last message telling us we are done\n    791             elapsed_time = time.time() - self._start_time\n    792             self._print('Done %3i out of %3i | elapsed: %s finished',\n    793                         (len(self._output), len(self._output),\n\n---------------------------------------------------------------------------\nSub-process traceback:\n---------------------------------------------------------------------------\nMemoryError                                        Wed Mar  7 20:06:32 2018\nPID: 884                               Python 3.6.3: C:\\Anaconda\\python.exe\n...........................................................................\nC:\\Anaconda\\lib\\site-packages\\sklearn\\externals\\joblib\\parallel.py in __call__(self=<sklearn.externals.joblib.parallel.BatchedCalls object>)\n    126     def __init__(self, iterator_slice):\n    127         self.items = list(iterator_slice)\n    128         self._size = len(self.items)\n    129 \n    130     def __call__(self):\n--> 131         return [func(*args, **kwargs) for func, args, kwargs in self.items]\n        self.items = [(<function _fit_and_score>, (Pipeline(memory=None,\n     steps=[('vect', Count...random_state=123, verbose=0, warm_start=False))]), memmap([ 'менеджер продажа лакокрасочный материа...сделать сейчас вакансия'], \n      dtype='<U8417'), memmap([1, 0, 0, ..., 0, 1, 1], dtype=int64), {'score': make_scorer(roc_auc_score, needs_threshold=True)}, array([     0,      1,      2, ..., 133997, 133998, 133999]), array([     6,      7,     12, ..., 133987, 133988, 133995]), 1, None, None), {'return_times': True, 'return_train_score': False})]\n    132 \n    133     def __len__(self):\n    134         return self._size\n    135 \n\n...........................................................................\nC:\\Anaconda\\lib\\site-packages\\sklearn\\externals\\joblib\\parallel.py in <listcomp>(.0=<list_iterator object>)\n    126     def __init__(self, iterator_slice):\n    127         self.items = list(iterator_slice)\n    128         self._size = len(self.items)\n    129 \n    130     def __call__(self):\n--> 131         return [func(*args, **kwargs) for func, args, kwargs in self.items]\n        func = <function _fit_and_score>\n        args = (Pipeline(memory=None,\n     steps=[('vect', Count...random_state=123, verbose=0, warm_start=False))]), memmap([ 'менеджер продажа лакокрасочный материа...сделать сейчас вакансия'], \n      dtype='<U8417'), memmap([1, 0, 0, ..., 0, 1, 1], dtype=int64), {'score': make_scorer(roc_auc_score, needs_threshold=True)}, array([     0,      1,      2, ..., 133997, 133998, 133999]), array([     6,      7,     12, ..., 133987, 133988, 133995]), 1, None, None)\n        kwargs = {'return_times': True, 'return_train_score': False}\n    132 \n    133     def __len__(self):\n    134         return self._size\n    135 \n\n...........................................................................\nC:\\Anaconda\\lib\\site-packages\\sklearn\\model_selection\\_validation.py in _fit_and_score(estimator=Pipeline(memory=None,\n     steps=[('vect', Count...random_state=123, verbose=0, warm_start=False))]), X=memmap([ 'менеджер продажа лакокрасочный материа...сделать сейчас вакансия'], \n      dtype='<U8417'), y=memmap([1, 0, 0, ..., 0, 1, 1], dtype=int64), scorer={'score': make_scorer(roc_auc_score, needs_threshold=True)}, train=array([     0,      1,      2, ..., 133997, 133998, 133999]), test=array([     6,      7,     12, ..., 133987, 133988, 133995]), verbose=1, parameters=None, fit_params={}, return_train_score=False, return_parameters=False, return_n_test_samples=False, return_times=True, error_score='raise')\n    444         estimator.set_params(**parameters)\n    445 \n    446     start_time = time.time()\n    447 \n    448     X_train, y_train = _safe_split(estimator, X, y, train)\n--> 449     X_test, y_test = _safe_split(estimator, X, y, test, train)\n        X_test = undefined\n        y_test = undefined\n        estimator = Pipeline(memory=None,\n     steps=[('vect', Count...random_state=123, verbose=0, warm_start=False))])\n        X = memmap([ 'менеджер продажа лакокрасочный материа...сделать сейчас вакансия'], \n      dtype='<U8417')\n        y = memmap([1, 0, 0, ..., 0, 1, 1], dtype=int64)\n        test = array([     6,      7,     12, ..., 133987, 133988, 133995])\n        train = array([     0,      1,      2, ..., 133997, 133998, 133999])\n    450 \n    451     is_multimetric = not callable(scorer)\n    452     n_scorers = len(scorer.keys()) if is_multimetric else 1\n    453 \n\n...........................................................................\nC:\\Anaconda\\lib\\site-packages\\sklearn\\utils\\metaestimators.py in _safe_split(estimator=Pipeline(memory=None,\n     steps=[('vect', Count...random_state=123, verbose=0, warm_start=False))]), X=memmap([ 'менеджер продажа лакокрасочный материа...сделать сейчас вакансия'], \n      dtype='<U8417'), y=memmap([1, 0, 0, ..., 0, 1, 1], dtype=int64), indices=array([     6,      7,     12, ..., 133987, 133988, 133995]), train_indices=array([     0,      1,      2, ..., 133997, 133998, 133999]))\n    195         if train_indices is None:\n    196             X_subset = X[np.ix_(indices, indices)]\n    197         else:\n    198             X_subset = X[np.ix_(indices, train_indices)]\n    199     else:\n--> 200         X_subset = safe_indexing(X, indices)\n        X_subset = undefined\n        X = memmap([ 'менеджер продажа лакокрасочный материа...сделать сейчас вакансия'], \n      dtype='<U8417')\n        indices = array([     6,      7,     12, ..., 133987, 133988, 133995])\n    201 \n    202     if y is not None:\n    203         y_subset = safe_indexing(y, indices)\n    204     else:\n\n...........................................................................\nC:\\Anaconda\\lib\\site-packages\\sklearn\\utils\\__init__.py in safe_indexing(X=memmap([ 'менеджер продажа лакокрасочный материа...сделать сейчас вакансия'], \n      dtype='<U8417'), indices=array([     6,      7,     12, ..., 133987, 133988, 133995]))\n    155             return X.copy().iloc[indices]\n    156     elif hasattr(X, \"shape\"):\n    157         if hasattr(X, 'take') and (hasattr(indices, 'dtype') and\n    158                                    indices.dtype.kind == 'i'):\n    159             # This is often substantially faster than X[indices]\n--> 160             return X.take(indices, axis=0)\n        X.take = <built-in method take of memmap object>\n        indices = array([     6,      7,     12, ..., 133987, 133988, 133995])\n    161         else:\n    162             return X[indices]\n    163     else:\n    164         return [X[idx] for idx in indices]\n\nMemoryError: \n___________________________________________________________________________",
     "output_type": "error",
     "traceback": [
      "\u001b[1;31m---------------------------------------------------------------------------\u001b[0m",
      "\u001b[1;31mRemoteTraceback\u001b[0m                           Traceback (most recent call last)",
      "\u001b[1;31mRemoteTraceback\u001b[0m: \n\"\"\"\nTraceback (most recent call last):\n  File \"C:\\Anaconda\\lib\\site-packages\\sklearn\\externals\\joblib\\_parallel_backends.py\", line 350, in __call__\n    return self.func(*args, **kwargs)\n  File \"C:\\Anaconda\\lib\\site-packages\\sklearn\\externals\\joblib\\parallel.py\", line 131, in __call__\n    return [func(*args, **kwargs) for func, args, kwargs in self.items]\n  File \"C:\\Anaconda\\lib\\site-packages\\sklearn\\externals\\joblib\\parallel.py\", line 131, in <listcomp>\n    return [func(*args, **kwargs) for func, args, kwargs in self.items]\n  File \"C:\\Anaconda\\lib\\site-packages\\sklearn\\model_selection\\_validation.py\", line 449, in _fit_and_score\n    X_test, y_test = _safe_split(estimator, X, y, test, train)\n  File \"C:\\Anaconda\\lib\\site-packages\\sklearn\\utils\\metaestimators.py\", line 200, in _safe_split\n    X_subset = safe_indexing(X, indices)\n  File \"C:\\Anaconda\\lib\\site-packages\\sklearn\\utils\\__init__.py\", line 160, in safe_indexing\n    return X.take(indices, axis=0)\nMemoryError\n\nDuring handling of the above exception, another exception occurred:\n\nTraceback (most recent call last):\n  File \"C:\\Anaconda\\lib\\multiprocessing\\pool.py\", line 119, in worker\n    result = (True, func(*args, **kwds))\n  File \"C:\\Anaconda\\lib\\site-packages\\sklearn\\externals\\joblib\\_parallel_backends.py\", line 359, in __call__\n    raise TransportableException(text, e_type)\nsklearn.externals.joblib.my_exceptions.TransportableException: TransportableException\n___________________________________________________________________________\nMemoryError                                        Wed Mar  7 20:06:32 2018\nPID: 884                               Python 3.6.3: C:\\Anaconda\\python.exe\n...........................................................................\nC:\\Anaconda\\lib\\site-packages\\sklearn\\externals\\joblib\\parallel.py in __call__(self=<sklearn.externals.joblib.parallel.BatchedCalls object>)\n    126     def __init__(self, iterator_slice):\n    127         self.items = list(iterator_slice)\n    128         self._size = len(self.items)\n    129 \n    130     def __call__(self):\n--> 131         return [func(*args, **kwargs) for func, args, kwargs in self.items]\n        self.items = [(<function _fit_and_score>, (Pipeline(memory=None,\n     steps=[('vect', Count...random_state=123, verbose=0, warm_start=False))]), memmap([ 'менеджер продажа лакокрасочный материа...сделать сейчас вакансия'], \n      dtype='<U8417'), memmap([1, 0, 0, ..., 0, 1, 1], dtype=int64), {'score': make_scorer(roc_auc_score, needs_threshold=True)}, array([     0,      1,      2, ..., 133997, 133998, 133999]), array([     6,      7,     12, ..., 133987, 133988, 133995]), 1, None, None), {'return_times': True, 'return_train_score': False})]\n    132 \n    133     def __len__(self):\n    134         return self._size\n    135 \n\n...........................................................................\nC:\\Anaconda\\lib\\site-packages\\sklearn\\externals\\joblib\\parallel.py in <listcomp>(.0=<list_iterator object>)\n    126     def __init__(self, iterator_slice):\n    127         self.items = list(iterator_slice)\n    128         self._size = len(self.items)\n    129 \n    130     def __call__(self):\n--> 131         return [func(*args, **kwargs) for func, args, kwargs in self.items]\n        func = <function _fit_and_score>\n        args = (Pipeline(memory=None,\n     steps=[('vect', Count...random_state=123, verbose=0, warm_start=False))]), memmap([ 'менеджер продажа лакокрасочный материа...сделать сейчас вакансия'], \n      dtype='<U8417'), memmap([1, 0, 0, ..., 0, 1, 1], dtype=int64), {'score': make_scorer(roc_auc_score, needs_threshold=True)}, array([     0,      1,      2, ..., 133997, 133998, 133999]), array([     6,      7,     12, ..., 133987, 133988, 133995]), 1, None, None)\n        kwargs = {'return_times': True, 'return_train_score': False}\n    132 \n    133     def __len__(self):\n    134         return self._size\n    135 \n\n...........................................................................\nC:\\Anaconda\\lib\\site-packages\\sklearn\\model_selection\\_validation.py in _fit_and_score(estimator=Pipeline(memory=None,\n     steps=[('vect', Count...random_state=123, verbose=0, warm_start=False))]), X=memmap([ 'менеджер продажа лакокрасочный материа...сделать сейчас вакансия'], \n      dtype='<U8417'), y=memmap([1, 0, 0, ..., 0, 1, 1], dtype=int64), scorer={'score': make_scorer(roc_auc_score, needs_threshold=True)}, train=array([     0,      1,      2, ..., 133997, 133998, 133999]), test=array([     6,      7,     12, ..., 133987, 133988, 133995]), verbose=1, parameters=None, fit_params={}, return_train_score=False, return_parameters=False, return_n_test_samples=False, return_times=True, error_score='raise')\n    444         estimator.set_params(**parameters)\n    445 \n    446     start_time = time.time()\n    447 \n    448     X_train, y_train = _safe_split(estimator, X, y, train)\n--> 449     X_test, y_test = _safe_split(estimator, X, y, test, train)\n        X_test = undefined\n        y_test = undefined\n        estimator = Pipeline(memory=None,\n     steps=[('vect', Count...random_state=123, verbose=0, warm_start=False))])\n        X = memmap([ 'менеджер продажа лакокрасочный материа...сделать сейчас вакансия'], \n      dtype='<U8417')\n        y = memmap([1, 0, 0, ..., 0, 1, 1], dtype=int64)\n        test = array([     6,      7,     12, ..., 133987, 133988, 133995])\n        train = array([     0,      1,      2, ..., 133997, 133998, 133999])\n    450 \n    451     is_multimetric = not callable(scorer)\n    452     n_scorers = len(scorer.keys()) if is_multimetric else 1\n    453 \n\n...........................................................................\nC:\\Anaconda\\lib\\site-packages\\sklearn\\utils\\metaestimators.py in _safe_split(estimator=Pipeline(memory=None,\n     steps=[('vect', Count...random_state=123, verbose=0, warm_start=False))]), X=memmap([ 'менеджер продажа лакокрасочный материа...сделать сейчас вакансия'], \n      dtype='<U8417'), y=memmap([1, 0, 0, ..., 0, 1, 1], dtype=int64), indices=array([     6,      7,     12, ..., 133987, 133988, 133995]), train_indices=array([     0,      1,      2, ..., 133997, 133998, 133999]))\n    195         if train_indices is None:\n    196             X_subset = X[np.ix_(indices, indices)]\n    197         else:\n    198             X_subset = X[np.ix_(indices, train_indices)]\n    199     else:\n--> 200         X_subset = safe_indexing(X, indices)\n        X_subset = undefined\n        X = memmap([ 'менеджер продажа лакокрасочный материа...сделать сейчас вакансия'], \n      dtype='<U8417')\n        indices = array([     6,      7,     12, ..., 133987, 133988, 133995])\n    201 \n    202     if y is not None:\n    203         y_subset = safe_indexing(y, indices)\n    204     else:\n\n...........................................................................\nC:\\Anaconda\\lib\\site-packages\\sklearn\\utils\\__init__.py in safe_indexing(X=memmap([ 'менеджер продажа лакокрасочный материа...сделать сейчас вакансия'], \n      dtype='<U8417'), indices=array([     6,      7,     12, ..., 133987, 133988, 133995]))\n    155             return X.copy().iloc[indices]\n    156     elif hasattr(X, \"shape\"):\n    157         if hasattr(X, 'take') and (hasattr(indices, 'dtype') and\n    158                                    indices.dtype.kind == 'i'):\n    159             # This is often substantially faster than X[indices]\n--> 160             return X.take(indices, axis=0)\n        X.take = <built-in method take of memmap object>\n        indices = array([     6,      7,     12, ..., 133987, 133988, 133995])\n    161         else:\n    162             return X[indices]\n    163     else:\n    164         return [X[idx] for idx in indices]\n\nMemoryError: \n___________________________________________________________________________\n\"\"\"",
      "\nThe above exception was the direct cause of the following exception:\n",
      "\u001b[1;31mTransportableException\u001b[0m                    Traceback (most recent call last)",
      "\u001b[1;32mC:\\Anaconda\\lib\\site-packages\\sklearn\\externals\\joblib\\parallel.py\u001b[0m in \u001b[0;36mretrieve\u001b[1;34m(self)\u001b[0m\n\u001b[0;32m    698\u001b[0m                 \u001b[1;32mif\u001b[0m \u001b[0mgetattr\u001b[0m\u001b[1;33m(\u001b[0m\u001b[0mself\u001b[0m\u001b[1;33m.\u001b[0m\u001b[0m_backend\u001b[0m\u001b[1;33m,\u001b[0m \u001b[1;34m'supports_timeout'\u001b[0m\u001b[1;33m,\u001b[0m \u001b[1;32mFalse\u001b[0m\u001b[1;33m)\u001b[0m\u001b[1;33m:\u001b[0m\u001b[1;33m\u001b[0m\u001b[0m\n\u001b[1;32m--> 699\u001b[1;33m                     \u001b[0mself\u001b[0m\u001b[1;33m.\u001b[0m\u001b[0m_output\u001b[0m\u001b[1;33m.\u001b[0m\u001b[0mextend\u001b[0m\u001b[1;33m(\u001b[0m\u001b[0mjob\u001b[0m\u001b[1;33m.\u001b[0m\u001b[0mget\u001b[0m\u001b[1;33m(\u001b[0m\u001b[0mtimeout\u001b[0m\u001b[1;33m=\u001b[0m\u001b[0mself\u001b[0m\u001b[1;33m.\u001b[0m\u001b[0mtimeout\u001b[0m\u001b[1;33m)\u001b[0m\u001b[1;33m)\u001b[0m\u001b[1;33m\u001b[0m\u001b[0m\n\u001b[0m\u001b[0;32m    700\u001b[0m                 \u001b[1;32melse\u001b[0m\u001b[1;33m:\u001b[0m\u001b[1;33m\u001b[0m\u001b[0m\n",
      "\u001b[1;32mC:\\Anaconda\\lib\\multiprocessing\\pool.py\u001b[0m in \u001b[0;36mget\u001b[1;34m(self, timeout)\u001b[0m\n\u001b[0;32m    643\u001b[0m         \u001b[1;32melse\u001b[0m\u001b[1;33m:\u001b[0m\u001b[1;33m\u001b[0m\u001b[0m\n\u001b[1;32m--> 644\u001b[1;33m             \u001b[1;32mraise\u001b[0m \u001b[0mself\u001b[0m\u001b[1;33m.\u001b[0m\u001b[0m_value\u001b[0m\u001b[1;33m\u001b[0m\u001b[0m\n\u001b[0m\u001b[0;32m    645\u001b[0m \u001b[1;33m\u001b[0m\u001b[0m\n",
      "\u001b[1;31mTransportableException\u001b[0m: TransportableException\n___________________________________________________________________________\nMemoryError                                        Wed Mar  7 20:06:32 2018\nPID: 884                               Python 3.6.3: C:\\Anaconda\\python.exe\n...........................................................................\nC:\\Anaconda\\lib\\site-packages\\sklearn\\externals\\joblib\\parallel.py in __call__(self=<sklearn.externals.joblib.parallel.BatchedCalls object>)\n    126     def __init__(self, iterator_slice):\n    127         self.items = list(iterator_slice)\n    128         self._size = len(self.items)\n    129 \n    130     def __call__(self):\n--> 131         return [func(*args, **kwargs) for func, args, kwargs in self.items]\n        self.items = [(<function _fit_and_score>, (Pipeline(memory=None,\n     steps=[('vect', Count...random_state=123, verbose=0, warm_start=False))]), memmap([ 'менеджер продажа лакокрасочный материа...сделать сейчас вакансия'], \n      dtype='<U8417'), memmap([1, 0, 0, ..., 0, 1, 1], dtype=int64), {'score': make_scorer(roc_auc_score, needs_threshold=True)}, array([     0,      1,      2, ..., 133997, 133998, 133999]), array([     6,      7,     12, ..., 133987, 133988, 133995]), 1, None, None), {'return_times': True, 'return_train_score': False})]\n    132 \n    133     def __len__(self):\n    134         return self._size\n    135 \n\n...........................................................................\nC:\\Anaconda\\lib\\site-packages\\sklearn\\externals\\joblib\\parallel.py in <listcomp>(.0=<list_iterator object>)\n    126     def __init__(self, iterator_slice):\n    127         self.items = list(iterator_slice)\n    128         self._size = len(self.items)\n    129 \n    130     def __call__(self):\n--> 131         return [func(*args, **kwargs) for func, args, kwargs in self.items]\n        func = <function _fit_and_score>\n        args = (Pipeline(memory=None,\n     steps=[('vect', Count...random_state=123, verbose=0, warm_start=False))]), memmap([ 'менеджер продажа лакокрасочный материа...сделать сейчас вакансия'], \n      dtype='<U8417'), memmap([1, 0, 0, ..., 0, 1, 1], dtype=int64), {'score': make_scorer(roc_auc_score, needs_threshold=True)}, array([     0,      1,      2, ..., 133997, 133998, 133999]), array([     6,      7,     12, ..., 133987, 133988, 133995]), 1, None, None)\n        kwargs = {'return_times': True, 'return_train_score': False}\n    132 \n    133     def __len__(self):\n    134         return self._size\n    135 \n\n...........................................................................\nC:\\Anaconda\\lib\\site-packages\\sklearn\\model_selection\\_validation.py in _fit_and_score(estimator=Pipeline(memory=None,\n     steps=[('vect', Count...random_state=123, verbose=0, warm_start=False))]), X=memmap([ 'менеджер продажа лакокрасочный материа...сделать сейчас вакансия'], \n      dtype='<U8417'), y=memmap([1, 0, 0, ..., 0, 1, 1], dtype=int64), scorer={'score': make_scorer(roc_auc_score, needs_threshold=True)}, train=array([     0,      1,      2, ..., 133997, 133998, 133999]), test=array([     6,      7,     12, ..., 133987, 133988, 133995]), verbose=1, parameters=None, fit_params={}, return_train_score=False, return_parameters=False, return_n_test_samples=False, return_times=True, error_score='raise')\n    444         estimator.set_params(**parameters)\n    445 \n    446     start_time = time.time()\n    447 \n    448     X_train, y_train = _safe_split(estimator, X, y, train)\n--> 449     X_test, y_test = _safe_split(estimator, X, y, test, train)\n        X_test = undefined\n        y_test = undefined\n        estimator = Pipeline(memory=None,\n     steps=[('vect', Count...random_state=123, verbose=0, warm_start=False))])\n        X = memmap([ 'менеджер продажа лакокрасочный материа...сделать сейчас вакансия'], \n      dtype='<U8417')\n        y = memmap([1, 0, 0, ..., 0, 1, 1], dtype=int64)\n        test = array([     6,      7,     12, ..., 133987, 133988, 133995])\n        train = array([     0,      1,      2, ..., 133997, 133998, 133999])\n    450 \n    451     is_multimetric = not callable(scorer)\n    452     n_scorers = len(scorer.keys()) if is_multimetric else 1\n    453 \n\n...........................................................................\nC:\\Anaconda\\lib\\site-packages\\sklearn\\utils\\metaestimators.py in _safe_split(estimator=Pipeline(memory=None,\n     steps=[('vect', Count...random_state=123, verbose=0, warm_start=False))]), X=memmap([ 'менеджер продажа лакокрасочный материа...сделать сейчас вакансия'], \n      dtype='<U8417'), y=memmap([1, 0, 0, ..., 0, 1, 1], dtype=int64), indices=array([     6,      7,     12, ..., 133987, 133988, 133995]), train_indices=array([     0,      1,      2, ..., 133997, 133998, 133999]))\n    195         if train_indices is None:\n    196             X_subset = X[np.ix_(indices, indices)]\n    197         else:\n    198             X_subset = X[np.ix_(indices, train_indices)]\n    199     else:\n--> 200         X_subset = safe_indexing(X, indices)\n        X_subset = undefined\n        X = memmap([ 'менеджер продажа лакокрасочный материа...сделать сейчас вакансия'], \n      dtype='<U8417')\n        indices = array([     6,      7,     12, ..., 133987, 133988, 133995])\n    201 \n    202     if y is not None:\n    203         y_subset = safe_indexing(y, indices)\n    204     else:\n\n...........................................................................\nC:\\Anaconda\\lib\\site-packages\\sklearn\\utils\\__init__.py in safe_indexing(X=memmap([ 'менеджер продажа лакокрасочный материа...сделать сейчас вакансия'], \n      dtype='<U8417'), indices=array([     6,      7,     12, ..., 133987, 133988, 133995]))\n    155             return X.copy().iloc[indices]\n    156     elif hasattr(X, \"shape\"):\n    157         if hasattr(X, 'take') and (hasattr(indices, 'dtype') and\n    158                                    indices.dtype.kind == 'i'):\n    159             # This is often substantially faster than X[indices]\n--> 160             return X.take(indices, axis=0)\n        X.take = <built-in method take of memmap object>\n        indices = array([     6,      7,     12, ..., 133987, 133988, 133995])\n    161         else:\n    162             return X[indices]\n    163     else:\n    164         return [X[idx] for idx in indices]\n\nMemoryError: \n___________________________________________________________________________",
      "\nDuring handling of the above exception, another exception occurred:\n",
      "\u001b[1;31mJoblibMemoryError\u001b[0m                         Traceback (most recent call last)",
      "\u001b[1;32m<ipython-input-19-ba18760b29c7>\u001b[0m in \u001b[0;36m<module>\u001b[1;34m()\u001b[0m\n\u001b[0;32m      1\u001b[0m \u001b[1;32mif\u001b[0m \u001b[0m__name__\u001b[0m \u001b[1;33m==\u001b[0m \u001b[1;34m\"__main__\"\u001b[0m\u001b[1;33m:\u001b[0m\u001b[1;33m\u001b[0m\u001b[0m\n\u001b[1;32m----> 2\u001b[1;33m     \u001b[0mcross_val_score\u001b[0m\u001b[1;33m(\u001b[0m\u001b[0mfrst_clf2\u001b[0m\u001b[1;33m,\u001b[0m \u001b[0mX_train\u001b[0m\u001b[1;33m,\u001b[0m \u001b[0my_train\u001b[0m\u001b[1;33m,\u001b[0m \u001b[0mscoring\u001b[0m\u001b[1;33m=\u001b[0m\u001b[1;34m'roc_auc'\u001b[0m\u001b[1;33m,\u001b[0m \u001b[0mcv\u001b[0m\u001b[1;33m=\u001b[0m\u001b[0mcv\u001b[0m\u001b[1;33m,\u001b[0m \u001b[0mn_jobs\u001b[0m\u001b[1;33m=\u001b[0m\u001b[1;33m-\u001b[0m\u001b[1;36m1\u001b[0m\u001b[1;33m,\u001b[0m \u001b[0mverbose\u001b[0m\u001b[1;33m=\u001b[0m\u001b[1;36m1\u001b[0m\u001b[1;33m)\u001b[0m\u001b[1;33m\u001b[0m\u001b[0m\n\u001b[0m",
      "\u001b[1;32mC:\\Anaconda\\lib\\site-packages\\sklearn\\model_selection\\_validation.py\u001b[0m in \u001b[0;36mcross_val_score\u001b[1;34m(estimator, X, y, groups, scoring, cv, n_jobs, verbose, fit_params, pre_dispatch)\u001b[0m\n\u001b[0;32m    340\u001b[0m                                 \u001b[0mn_jobs\u001b[0m\u001b[1;33m=\u001b[0m\u001b[0mn_jobs\u001b[0m\u001b[1;33m,\u001b[0m \u001b[0mverbose\u001b[0m\u001b[1;33m=\u001b[0m\u001b[0mverbose\u001b[0m\u001b[1;33m,\u001b[0m\u001b[1;33m\u001b[0m\u001b[0m\n\u001b[0;32m    341\u001b[0m                                 \u001b[0mfit_params\u001b[0m\u001b[1;33m=\u001b[0m\u001b[0mfit_params\u001b[0m\u001b[1;33m,\u001b[0m\u001b[1;33m\u001b[0m\u001b[0m\n\u001b[1;32m--> 342\u001b[1;33m                                 pre_dispatch=pre_dispatch)\n\u001b[0m\u001b[0;32m    343\u001b[0m     \u001b[1;32mreturn\u001b[0m \u001b[0mcv_results\u001b[0m\u001b[1;33m[\u001b[0m\u001b[1;34m'test_score'\u001b[0m\u001b[1;33m]\u001b[0m\u001b[1;33m\u001b[0m\u001b[0m\n\u001b[0;32m    344\u001b[0m \u001b[1;33m\u001b[0m\u001b[0m\n",
      "\u001b[1;32mC:\\Anaconda\\lib\\site-packages\\sklearn\\model_selection\\_validation.py\u001b[0m in \u001b[0;36mcross_validate\u001b[1;34m(estimator, X, y, groups, scoring, cv, n_jobs, verbose, fit_params, pre_dispatch, return_train_score)\u001b[0m\n\u001b[0;32m    204\u001b[0m             \u001b[0mfit_params\u001b[0m\u001b[1;33m,\u001b[0m \u001b[0mreturn_train_score\u001b[0m\u001b[1;33m=\u001b[0m\u001b[0mreturn_train_score\u001b[0m\u001b[1;33m,\u001b[0m\u001b[1;33m\u001b[0m\u001b[0m\n\u001b[0;32m    205\u001b[0m             return_times=True)\n\u001b[1;32m--> 206\u001b[1;33m         for train, test in cv.split(X, y, groups))\n\u001b[0m\u001b[0;32m    207\u001b[0m \u001b[1;33m\u001b[0m\u001b[0m\n\u001b[0;32m    208\u001b[0m     \u001b[1;32mif\u001b[0m \u001b[0mreturn_train_score\u001b[0m\u001b[1;33m:\u001b[0m\u001b[1;33m\u001b[0m\u001b[0m\n",
      "\u001b[1;32mC:\\Anaconda\\lib\\site-packages\\sklearn\\externals\\joblib\\parallel.py\u001b[0m in \u001b[0;36m__call__\u001b[1;34m(self, iterable)\u001b[0m\n\u001b[0;32m    787\u001b[0m                 \u001b[1;31m# consumption.\u001b[0m\u001b[1;33m\u001b[0m\u001b[1;33m\u001b[0m\u001b[0m\n\u001b[0;32m    788\u001b[0m                 \u001b[0mself\u001b[0m\u001b[1;33m.\u001b[0m\u001b[0m_iterating\u001b[0m \u001b[1;33m=\u001b[0m \u001b[1;32mFalse\u001b[0m\u001b[1;33m\u001b[0m\u001b[0m\n\u001b[1;32m--> 789\u001b[1;33m             \u001b[0mself\u001b[0m\u001b[1;33m.\u001b[0m\u001b[0mretrieve\u001b[0m\u001b[1;33m(\u001b[0m\u001b[1;33m)\u001b[0m\u001b[1;33m\u001b[0m\u001b[0m\n\u001b[0m\u001b[0;32m    790\u001b[0m             \u001b[1;31m# Make sure that we get a last message telling us we are done\u001b[0m\u001b[1;33m\u001b[0m\u001b[1;33m\u001b[0m\u001b[0m\n\u001b[0;32m    791\u001b[0m             \u001b[0melapsed_time\u001b[0m \u001b[1;33m=\u001b[0m \u001b[0mtime\u001b[0m\u001b[1;33m.\u001b[0m\u001b[0mtime\u001b[0m\u001b[1;33m(\u001b[0m\u001b[1;33m)\u001b[0m \u001b[1;33m-\u001b[0m \u001b[0mself\u001b[0m\u001b[1;33m.\u001b[0m\u001b[0m_start_time\u001b[0m\u001b[1;33m\u001b[0m\u001b[0m\n",
      "\u001b[1;32mC:\\Anaconda\\lib\\site-packages\\sklearn\\externals\\joblib\\parallel.py\u001b[0m in \u001b[0;36mretrieve\u001b[1;34m(self)\u001b[0m\n\u001b[0;32m    738\u001b[0m                     \u001b[0mexception\u001b[0m \u001b[1;33m=\u001b[0m \u001b[0mexception_type\u001b[0m\u001b[1;33m(\u001b[0m\u001b[0mreport\u001b[0m\u001b[1;33m)\u001b[0m\u001b[1;33m\u001b[0m\u001b[0m\n\u001b[0;32m    739\u001b[0m \u001b[1;33m\u001b[0m\u001b[0m\n\u001b[1;32m--> 740\u001b[1;33m                     \u001b[1;32mraise\u001b[0m \u001b[0mexception\u001b[0m\u001b[1;33m\u001b[0m\u001b[0m\n\u001b[0m\u001b[0;32m    741\u001b[0m \u001b[1;33m\u001b[0m\u001b[0m\n\u001b[0;32m    742\u001b[0m     \u001b[1;32mdef\u001b[0m \u001b[0m__call__\u001b[0m\u001b[1;33m(\u001b[0m\u001b[0mself\u001b[0m\u001b[1;33m,\u001b[0m \u001b[0miterable\u001b[0m\u001b[1;33m)\u001b[0m\u001b[1;33m:\u001b[0m\u001b[1;33m\u001b[0m\u001b[0m\n",
      "\u001b[1;31mJoblibMemoryError\u001b[0m: JoblibMemoryError\n___________________________________________________________________________\nMultiprocessing exception:\n...........................................................................\nC:\\Anaconda\\lib\\runpy.py in _run_module_as_main(mod_name='ipykernel.__main__', alter_argv=1)\n    188         sys.exit(msg)\n    189     main_globals = sys.modules[\"__main__\"].__dict__\n    190     if alter_argv:\n    191         sys.argv[0] = mod_spec.origin\n    192     return _run_code(code, main_globals, None,\n--> 193                      \"__main__\", mod_spec)\n        mod_spec = ModuleSpec(name='ipykernel.__main__', loader=<_f...nda\\\\lib\\\\site-packages\\\\ipykernel\\\\__main__.py')\n    194 \n    195 def run_module(mod_name, init_globals=None,\n    196                run_name=None, alter_sys=False):\n    197     \"\"\"Execute a module's code without importing it\n\n...........................................................................\nC:\\Anaconda\\lib\\runpy.py in _run_code(code=<code object <module> at 0x0000023391BD4780, fil...lib\\site-packages\\ipykernel\\__main__.py\", line 1>, run_globals={'__annotations__': {}, '__builtins__': <module 'builtins' (built-in)>, '__cached__': r'C:\\Anaconda\\lib\\site-packages\\ipykernel\\__pycache__\\__main__.cpython-36.pyc', '__doc__': None, '__file__': r'C:\\Anaconda\\lib\\site-packages\\ipykernel\\__main__.py', '__loader__': <_frozen_importlib_external.SourceFileLoader object>, '__name__': '__main__', '__package__': 'ipykernel', '__spec__': ModuleSpec(name='ipykernel.__main__', loader=<_f...nda\\\\lib\\\\site-packages\\\\ipykernel\\\\__main__.py'), 'app': <module 'ipykernel.kernelapp' from 'C:\\\\Anaconda\\\\lib\\\\site-packages\\\\ipykernel\\\\kernelapp.py'>}, init_globals=None, mod_name='__main__', mod_spec=ModuleSpec(name='ipykernel.__main__', loader=<_f...nda\\\\lib\\\\site-packages\\\\ipykernel\\\\__main__.py'), pkg_name='ipykernel', script_name=None)\n     80                        __cached__ = cached,\n     81                        __doc__ = None,\n     82                        __loader__ = loader,\n     83                        __package__ = pkg_name,\n     84                        __spec__ = mod_spec)\n---> 85     exec(code, run_globals)\n        code = <code object <module> at 0x0000023391BD4780, fil...lib\\site-packages\\ipykernel\\__main__.py\", line 1>\n        run_globals = {'__annotations__': {}, '__builtins__': <module 'builtins' (built-in)>, '__cached__': r'C:\\Anaconda\\lib\\site-packages\\ipykernel\\__pycache__\\__main__.cpython-36.pyc', '__doc__': None, '__file__': r'C:\\Anaconda\\lib\\site-packages\\ipykernel\\__main__.py', '__loader__': <_frozen_importlib_external.SourceFileLoader object>, '__name__': '__main__', '__package__': 'ipykernel', '__spec__': ModuleSpec(name='ipykernel.__main__', loader=<_f...nda\\\\lib\\\\site-packages\\\\ipykernel\\\\__main__.py'), 'app': <module 'ipykernel.kernelapp' from 'C:\\\\Anaconda\\\\lib\\\\site-packages\\\\ipykernel\\\\kernelapp.py'>}\n     86     return run_globals\n     87 \n     88 def _run_module_code(code, init_globals=None,\n     89                     mod_name=None, mod_spec=None,\n\n...........................................................................\nC:\\Anaconda\\lib\\site-packages\\ipykernel\\__main__.py in <module>()\n      1 if __name__ == '__main__':\n      2     from ipykernel import kernelapp as app\n----> 3     app.launch_new_instance()\n\n...........................................................................\nC:\\Anaconda\\lib\\site-packages\\traitlets\\config\\application.py in launch_instance(cls=<class 'ipykernel.kernelapp.IPKernelApp'>, argv=None, **kwargs={})\n    653 \n    654         If a global instance already exists, this reinitializes and starts it\n    655         \"\"\"\n    656         app = cls.instance(**kwargs)\n    657         app.initialize(argv)\n--> 658         app.start()\n        app.start = <bound method IPKernelApp.start of <ipykernel.kernelapp.IPKernelApp object>>\n    659 \n    660 #-----------------------------------------------------------------------------\n    661 # utility functions, for convenience\n    662 #-----------------------------------------------------------------------------\n\n...........................................................................\nC:\\Anaconda\\lib\\site-packages\\ipykernel\\kernelapp.py in start(self=<ipykernel.kernelapp.IPKernelApp object>)\n    472             return self.subapp.start()\n    473         if self.poller is not None:\n    474             self.poller.start()\n    475         self.kernel.start()\n    476         try:\n--> 477             ioloop.IOLoop.instance().start()\n    478         except KeyboardInterrupt:\n    479             pass\n    480 \n    481 launch_new_instance = IPKernelApp.launch_instance\n\n...........................................................................\nC:\\Anaconda\\lib\\site-packages\\zmq\\eventloop\\ioloop.py in start(self=<zmq.eventloop.ioloop.ZMQIOLoop object>)\n    172             )\n    173         return loop\n    174     \n    175     def start(self):\n    176         try:\n--> 177             super(ZMQIOLoop, self).start()\n        self.start = <bound method ZMQIOLoop.start of <zmq.eventloop.ioloop.ZMQIOLoop object>>\n    178         except ZMQError as e:\n    179             if e.errno == ETERM:\n    180                 # quietly return on ETERM\n    181                 pass\n\n...........................................................................\nC:\\Anaconda\\lib\\site-packages\\tornado\\ioloop.py in start(self=<zmq.eventloop.ioloop.ZMQIOLoop object>)\n    883                 self._events.update(event_pairs)\n    884                 while self._events:\n    885                     fd, events = self._events.popitem()\n    886                     try:\n    887                         fd_obj, handler_func = self._handlers[fd]\n--> 888                         handler_func(fd_obj, events)\n        handler_func = <function wrap.<locals>.null_wrapper>\n        fd_obj = <zmq.sugar.socket.Socket object>\n        events = 1\n    889                     except (OSError, IOError) as e:\n    890                         if errno_from_exception(e) == errno.EPIPE:\n    891                             # Happens when the client closes the connection\n    892                             pass\n\n...........................................................................\nC:\\Anaconda\\lib\\site-packages\\tornado\\stack_context.py in null_wrapper(*args=(<zmq.sugar.socket.Socket object>, 1), **kwargs={})\n    272         # Fast path when there are no active contexts.\n    273         def null_wrapper(*args, **kwargs):\n    274             try:\n    275                 current_state = _state.contexts\n    276                 _state.contexts = cap_contexts[0]\n--> 277                 return fn(*args, **kwargs)\n        args = (<zmq.sugar.socket.Socket object>, 1)\n        kwargs = {}\n    278             finally:\n    279                 _state.contexts = current_state\n    280         null_wrapper._wrapped = True\n    281         return null_wrapper\n\n...........................................................................\nC:\\Anaconda\\lib\\site-packages\\zmq\\eventloop\\zmqstream.py in _handle_events(self=<zmq.eventloop.zmqstream.ZMQStream object>, fd=<zmq.sugar.socket.Socket object>, events=1)\n    435             # dispatch events:\n    436             if events & IOLoop.ERROR:\n    437                 gen_log.error(\"got POLLERR event on ZMQStream, which doesn't make sense\")\n    438                 return\n    439             if events & IOLoop.READ:\n--> 440                 self._handle_recv()\n        self._handle_recv = <bound method ZMQStream._handle_recv of <zmq.eventloop.zmqstream.ZMQStream object>>\n    441                 if not self.socket:\n    442                     return\n    443             if events & IOLoop.WRITE:\n    444                 self._handle_send()\n\n...........................................................................\nC:\\Anaconda\\lib\\site-packages\\zmq\\eventloop\\zmqstream.py in _handle_recv(self=<zmq.eventloop.zmqstream.ZMQStream object>)\n    467                 gen_log.error(\"RECV Error: %s\"%zmq.strerror(e.errno))\n    468         else:\n    469             if self._recv_callback:\n    470                 callback = self._recv_callback\n    471                 # self._recv_callback = None\n--> 472                 self._run_callback(callback, msg)\n        self._run_callback = <bound method ZMQStream._run_callback of <zmq.eventloop.zmqstream.ZMQStream object>>\n        callback = <function wrap.<locals>.null_wrapper>\n        msg = [<zmq.sugar.frame.Frame object>, <zmq.sugar.frame.Frame object>, <zmq.sugar.frame.Frame object>, <zmq.sugar.frame.Frame object>, <zmq.sugar.frame.Frame object>, <zmq.sugar.frame.Frame object>, <zmq.sugar.frame.Frame object>]\n    473                 \n    474         # self.update_state()\n    475         \n    476 \n\n...........................................................................\nC:\\Anaconda\\lib\\site-packages\\zmq\\eventloop\\zmqstream.py in _run_callback(self=<zmq.eventloop.zmqstream.ZMQStream object>, callback=<function wrap.<locals>.null_wrapper>, *args=([<zmq.sugar.frame.Frame object>, <zmq.sugar.frame.Frame object>, <zmq.sugar.frame.Frame object>, <zmq.sugar.frame.Frame object>, <zmq.sugar.frame.Frame object>, <zmq.sugar.frame.Frame object>, <zmq.sugar.frame.Frame object>],), **kwargs={})\n    409         close our socket.\"\"\"\n    410         try:\n    411             # Use a NullContext to ensure that all StackContexts are run\n    412             # inside our blanket exception handler rather than outside.\n    413             with stack_context.NullContext():\n--> 414                 callback(*args, **kwargs)\n        callback = <function wrap.<locals>.null_wrapper>\n        args = ([<zmq.sugar.frame.Frame object>, <zmq.sugar.frame.Frame object>, <zmq.sugar.frame.Frame object>, <zmq.sugar.frame.Frame object>, <zmq.sugar.frame.Frame object>, <zmq.sugar.frame.Frame object>, <zmq.sugar.frame.Frame object>],)\n        kwargs = {}\n    415         except:\n    416             gen_log.error(\"Uncaught exception, closing connection.\",\n    417                           exc_info=True)\n    418             # Close the socket on an uncaught exception from a user callback\n\n...........................................................................\nC:\\Anaconda\\lib\\site-packages\\tornado\\stack_context.py in null_wrapper(*args=([<zmq.sugar.frame.Frame object>, <zmq.sugar.frame.Frame object>, <zmq.sugar.frame.Frame object>, <zmq.sugar.frame.Frame object>, <zmq.sugar.frame.Frame object>, <zmq.sugar.frame.Frame object>, <zmq.sugar.frame.Frame object>],), **kwargs={})\n    272         # Fast path when there are no active contexts.\n    273         def null_wrapper(*args, **kwargs):\n    274             try:\n    275                 current_state = _state.contexts\n    276                 _state.contexts = cap_contexts[0]\n--> 277                 return fn(*args, **kwargs)\n        args = ([<zmq.sugar.frame.Frame object>, <zmq.sugar.frame.Frame object>, <zmq.sugar.frame.Frame object>, <zmq.sugar.frame.Frame object>, <zmq.sugar.frame.Frame object>, <zmq.sugar.frame.Frame object>, <zmq.sugar.frame.Frame object>],)\n        kwargs = {}\n    278             finally:\n    279                 _state.contexts = current_state\n    280         null_wrapper._wrapped = True\n    281         return null_wrapper\n\n...........................................................................\nC:\\Anaconda\\lib\\site-packages\\ipykernel\\kernelbase.py in dispatcher(msg=[<zmq.sugar.frame.Frame object>, <zmq.sugar.frame.Frame object>, <zmq.sugar.frame.Frame object>, <zmq.sugar.frame.Frame object>, <zmq.sugar.frame.Frame object>, <zmq.sugar.frame.Frame object>, <zmq.sugar.frame.Frame object>])\n    278         if self.control_stream:\n    279             self.control_stream.on_recv(self.dispatch_control, copy=False)\n    280 \n    281         def make_dispatcher(stream):\n    282             def dispatcher(msg):\n--> 283                 return self.dispatch_shell(stream, msg)\n        msg = [<zmq.sugar.frame.Frame object>, <zmq.sugar.frame.Frame object>, <zmq.sugar.frame.Frame object>, <zmq.sugar.frame.Frame object>, <zmq.sugar.frame.Frame object>, <zmq.sugar.frame.Frame object>, <zmq.sugar.frame.Frame object>]\n    284             return dispatcher\n    285 \n    286         for s in self.shell_streams:\n    287             s.on_recv(make_dispatcher(s), copy=False)\n\n...........................................................................\nC:\\Anaconda\\lib\\site-packages\\ipykernel\\kernelbase.py in dispatch_shell(self=<ipykernel.ipkernel.IPythonKernel object>, stream=<zmq.eventloop.zmqstream.ZMQStream object>, msg={'buffers': [], 'content': {'allow_stdin': True, 'code': 'if __name__ == \"__main__\":   \\n    cross_val_scor..., scoring=\\'roc_auc\\', cv=cv, n_jobs=-1, verbose=1)', 'silent': False, 'stop_on_error': True, 'store_history': True, 'user_expressions': {}}, 'header': {'date': datetime.datetime(2018, 3, 7, 20, 5, 23, 805298, tzinfo=tzutc()), 'msg_id': 'FD2B2435930947858AA95BEA4373A1F4', 'msg_type': 'execute_request', 'session': '4A5F545404194DA880F38A84F572B8AE', 'username': 'username', 'version': '5.0'}, 'metadata': {}, 'msg_id': 'FD2B2435930947858AA95BEA4373A1F4', 'msg_type': 'execute_request', 'parent_header': {}})\n    230             self.log.warn(\"Unknown message type: %r\", msg_type)\n    231         else:\n    232             self.log.debug(\"%s: %s\", msg_type, msg)\n    233             self.pre_handler_hook()\n    234             try:\n--> 235                 handler(stream, idents, msg)\n        handler = <bound method Kernel.execute_request of <ipykernel.ipkernel.IPythonKernel object>>\n        stream = <zmq.eventloop.zmqstream.ZMQStream object>\n        idents = [b'4A5F545404194DA880F38A84F572B8AE']\n        msg = {'buffers': [], 'content': {'allow_stdin': True, 'code': 'if __name__ == \"__main__\":   \\n    cross_val_scor..., scoring=\\'roc_auc\\', cv=cv, n_jobs=-1, verbose=1)', 'silent': False, 'stop_on_error': True, 'store_history': True, 'user_expressions': {}}, 'header': {'date': datetime.datetime(2018, 3, 7, 20, 5, 23, 805298, tzinfo=tzutc()), 'msg_id': 'FD2B2435930947858AA95BEA4373A1F4', 'msg_type': 'execute_request', 'session': '4A5F545404194DA880F38A84F572B8AE', 'username': 'username', 'version': '5.0'}, 'metadata': {}, 'msg_id': 'FD2B2435930947858AA95BEA4373A1F4', 'msg_type': 'execute_request', 'parent_header': {}}\n    236             except Exception:\n    237                 self.log.error(\"Exception in message handler:\", exc_info=True)\n    238             finally:\n    239                 self.post_handler_hook()\n\n...........................................................................\nC:\\Anaconda\\lib\\site-packages\\ipykernel\\kernelbase.py in execute_request(self=<ipykernel.ipkernel.IPythonKernel object>, stream=<zmq.eventloop.zmqstream.ZMQStream object>, ident=[b'4A5F545404194DA880F38A84F572B8AE'], parent={'buffers': [], 'content': {'allow_stdin': True, 'code': 'if __name__ == \"__main__\":   \\n    cross_val_scor..., scoring=\\'roc_auc\\', cv=cv, n_jobs=-1, verbose=1)', 'silent': False, 'stop_on_error': True, 'store_history': True, 'user_expressions': {}}, 'header': {'date': datetime.datetime(2018, 3, 7, 20, 5, 23, 805298, tzinfo=tzutc()), 'msg_id': 'FD2B2435930947858AA95BEA4373A1F4', 'msg_type': 'execute_request', 'session': '4A5F545404194DA880F38A84F572B8AE', 'username': 'username', 'version': '5.0'}, 'metadata': {}, 'msg_id': 'FD2B2435930947858AA95BEA4373A1F4', 'msg_type': 'execute_request', 'parent_header': {}})\n    394         if not silent:\n    395             self.execution_count += 1\n    396             self._publish_execute_input(code, parent, self.execution_count)\n    397 \n    398         reply_content = self.do_execute(code, silent, store_history,\n--> 399                                         user_expressions, allow_stdin)\n        user_expressions = {}\n        allow_stdin = True\n    400 \n    401         # Flush output before sending the reply.\n    402         sys.stdout.flush()\n    403         sys.stderr.flush()\n\n...........................................................................\nC:\\Anaconda\\lib\\site-packages\\ipykernel\\ipkernel.py in do_execute(self=<ipykernel.ipkernel.IPythonKernel object>, code='if __name__ == \"__main__\":   \\n    cross_val_scor..., scoring=\\'roc_auc\\', cv=cv, n_jobs=-1, verbose=1)', silent=False, store_history=True, user_expressions={}, allow_stdin=True)\n    191 \n    192         self._forward_input(allow_stdin)\n    193 \n    194         reply_content = {}\n    195         try:\n--> 196             res = shell.run_cell(code, store_history=store_history, silent=silent)\n        res = undefined\n        shell.run_cell = <bound method ZMQInteractiveShell.run_cell of <ipykernel.zmqshell.ZMQInteractiveShell object>>\n        code = 'if __name__ == \"__main__\":   \\n    cross_val_scor..., scoring=\\'roc_auc\\', cv=cv, n_jobs=-1, verbose=1)'\n        store_history = True\n        silent = False\n    197         finally:\n    198             self._restore_input()\n    199 \n    200         if res.error_before_exec is not None:\n\n...........................................................................\nC:\\Anaconda\\lib\\site-packages\\ipykernel\\zmqshell.py in run_cell(self=<ipykernel.zmqshell.ZMQInteractiveShell object>, *args=('if __name__ == \"__main__\":   \\n    cross_val_scor..., scoring=\\'roc_auc\\', cv=cv, n_jobs=-1, verbose=1)',), **kwargs={'silent': False, 'store_history': True})\n    528             )\n    529         self.payload_manager.write_payload(payload)\n    530 \n    531     def run_cell(self, *args, **kwargs):\n    532         self._last_traceback = None\n--> 533         return super(ZMQInteractiveShell, self).run_cell(*args, **kwargs)\n        self.run_cell = <bound method ZMQInteractiveShell.run_cell of <ipykernel.zmqshell.ZMQInteractiveShell object>>\n        args = ('if __name__ == \"__main__\":   \\n    cross_val_scor..., scoring=\\'roc_auc\\', cv=cv, n_jobs=-1, verbose=1)',)\n        kwargs = {'silent': False, 'store_history': True}\n    534 \n    535     def _showtraceback(self, etype, evalue, stb):\n    536         # try to preserve ordering of tracebacks and print statements\n    537         sys.stdout.flush()\n\n...........................................................................\nC:\\Anaconda\\lib\\site-packages\\IPython\\core\\interactiveshell.py in run_cell(self=<ipykernel.zmqshell.ZMQInteractiveShell object>, raw_cell='if __name__ == \"__main__\":   \\n    cross_val_scor..., scoring=\\'roc_auc\\', cv=cv, n_jobs=-1, verbose=1)', store_history=True, silent=False, shell_futures=True)\n   2693                 self.displayhook.exec_result = result\n   2694 \n   2695                 # Execute the user code\n   2696                 interactivity = \"none\" if silent else self.ast_node_interactivity\n   2697                 has_raised = self.run_ast_nodes(code_ast.body, cell_name,\n-> 2698                    interactivity=interactivity, compiler=compiler, result=result)\n        interactivity = 'last_expr'\n        compiler = <IPython.core.compilerop.CachingCompiler object>\n   2699                 \n   2700                 self.last_execution_succeeded = not has_raised\n   2701 \n   2702                 # Reset this so later displayed values do not modify the\n\n...........................................................................\nC:\\Anaconda\\lib\\site-packages\\IPython\\core\\interactiveshell.py in run_ast_nodes(self=<ipykernel.zmqshell.ZMQInteractiveShell object>, nodelist=[<_ast.If object>], cell_name='<ipython-input-19-ba18760b29c7>', interactivity='none', compiler=<IPython.core.compilerop.CachingCompiler object>, result=<ExecutionResult object at 233a9170e80, executio..._before_exec=None error_in_exec=None result=None>)\n   2797 \n   2798         try:\n   2799             for i, node in enumerate(to_run_exec):\n   2800                 mod = ast.Module([node])\n   2801                 code = compiler(mod, cell_name, \"exec\")\n-> 2802                 if self.run_code(code, result):\n        self.run_code = <bound method InteractiveShell.run_code of <ipykernel.zmqshell.ZMQInteractiveShell object>>\n        code = <code object <module> at 0x00000233A911A300, file \"<ipython-input-19-ba18760b29c7>\", line 1>\n        result = <ExecutionResult object at 233a9170e80, executio..._before_exec=None error_in_exec=None result=None>\n   2803                     return True\n   2804 \n   2805             for i, node in enumerate(to_run_interactive):\n   2806                 mod = ast.Interactive([node])\n\n...........................................................................\nC:\\Anaconda\\lib\\site-packages\\IPython\\core\\interactiveshell.py in run_code(self=<ipykernel.zmqshell.ZMQInteractiveShell object>, code_obj=<code object <module> at 0x00000233A911A300, file \"<ipython-input-19-ba18760b29c7>\", line 1>, result=<ExecutionResult object at 233a9170e80, executio..._before_exec=None error_in_exec=None result=None>)\n   2857         outflag = True  # happens in more places, so it's easier as default\n   2858         try:\n   2859             try:\n   2860                 self.hooks.pre_run_code_hook()\n   2861                 #rprint('Running code', repr(code_obj)) # dbg\n-> 2862                 exec(code_obj, self.user_global_ns, self.user_ns)\n        code_obj = <code object <module> at 0x00000233A911A300, file \"<ipython-input-19-ba18760b29c7>\", line 1>\n        self.user_global_ns = {'BeautifulSoup': <class 'bs4.BeautifulSoup'>, 'CountVectorizer': <class 'sklearn.feature_extraction.text.CountVectorizer'>, 'FeatureUnion': <class 'sklearn.pipeline.FeatureUnion'>, 'GridSearchCV': <class 'sklearn.model_selection._search.GridSearchCV'>, 'In': ['', 'import pandas as pd\\nfrom bs4 import BeautifulSou...hy2\\nimport pymystem3\\nimport re\\nimport numpy as np', 'from sklearn.pipeline import Pipeline\\nfrom sklea...import roc_auc_score, confusion_matrix, roc_curve', \"import matplotlib.pyplot as plt\\n\\n\\nget_ipython()....ggplot')\\nplt.rcParams['figure.figsize'] = (12, 8)\", \"def set_answer(predictions, file_name):\\n    data...('data/'+str(file_name)+'.csv', index_label='id')\", \"def get_data(processed=False):\\n    if processed:...dex_col='id') \\n    return (train_data, test_data)\", '## Токенизатор \\n\\nmorph = pymorphy2.MorphAnalyzer...=[str])              \\n    return processed(texts)', \"## Функция для красивого вывода наиболее оптимал...y='mean_test_score', ascending=False).tail(num).T\", 'train_data, test_data = get_data(True)', 'X_train, X_test, y_train, y_test = train_test_sp...   test_size=0.33, random_state=42, shuffle=True)', 'cv = StratifiedKFold(n_splits=3, random_state=123, shuffle=True)', \"frst_clf = Pipeline([('vect', CountVectorizer(mi...                                            ))\\n])\", \"cross_val_score(frst_clf, X_train, y_train, scoring='roc_auc', cv=cv, n_jobs=-1)\", \"frst_clf2 = Pipeline([('vect', CountVectorizer(m...                                            ))\\n])\", 'if __name__ == \"__main__\"::    \\n    cross_val_sc..., scoring=\\'roc_auc\\', cv=cv, n_jobs=-1, verbose=1)', 'if __name__ == \"__main__\":   \\n    cross_val_scor..., scoring=\\'roc_auc\\', cv=cv, n_jobs=-1, verbose=1)', \"frst_clf2 = Pipeline([('vect', CountVectorizer(m...                                            ))\\n])\", 'frst_clf = None', 'del(frst_clf)', 'if __name__ == \"__main__\":   \\n    cross_val_scor..., scoring=\\'roc_auc\\', cv=cv, n_jobs=-1, verbose=1)'], 'LogisticRegression': <class 'sklearn.linear_model.logistic.LogisticRegression'>, 'Out': {12: array([ 0.9880641 ,  0.98823835,  0.98806061])}, 'Pipeline': <class 'sklearn.pipeline.Pipeline'>, 'RandomForestClassifier': <class 'sklearn.ensemble.forest.RandomForestClassifier'>, 'RandomizedSearchCV': <class 'sklearn.model_selection._search.RandomizedSearchCV'>, ...}\n        self.user_ns = {'BeautifulSoup': <class 'bs4.BeautifulSoup'>, 'CountVectorizer': <class 'sklearn.feature_extraction.text.CountVectorizer'>, 'FeatureUnion': <class 'sklearn.pipeline.FeatureUnion'>, 'GridSearchCV': <class 'sklearn.model_selection._search.GridSearchCV'>, 'In': ['', 'import pandas as pd\\nfrom bs4 import BeautifulSou...hy2\\nimport pymystem3\\nimport re\\nimport numpy as np', 'from sklearn.pipeline import Pipeline\\nfrom sklea...import roc_auc_score, confusion_matrix, roc_curve', \"import matplotlib.pyplot as plt\\n\\n\\nget_ipython()....ggplot')\\nplt.rcParams['figure.figsize'] = (12, 8)\", \"def set_answer(predictions, file_name):\\n    data...('data/'+str(file_name)+'.csv', index_label='id')\", \"def get_data(processed=False):\\n    if processed:...dex_col='id') \\n    return (train_data, test_data)\", '## Токенизатор \\n\\nmorph = pymorphy2.MorphAnalyzer...=[str])              \\n    return processed(texts)', \"## Функция для красивого вывода наиболее оптимал...y='mean_test_score', ascending=False).tail(num).T\", 'train_data, test_data = get_data(True)', 'X_train, X_test, y_train, y_test = train_test_sp...   test_size=0.33, random_state=42, shuffle=True)', 'cv = StratifiedKFold(n_splits=3, random_state=123, shuffle=True)', \"frst_clf = Pipeline([('vect', CountVectorizer(mi...                                            ))\\n])\", \"cross_val_score(frst_clf, X_train, y_train, scoring='roc_auc', cv=cv, n_jobs=-1)\", \"frst_clf2 = Pipeline([('vect', CountVectorizer(m...                                            ))\\n])\", 'if __name__ == \"__main__\"::    \\n    cross_val_sc..., scoring=\\'roc_auc\\', cv=cv, n_jobs=-1, verbose=1)', 'if __name__ == \"__main__\":   \\n    cross_val_scor..., scoring=\\'roc_auc\\', cv=cv, n_jobs=-1, verbose=1)', \"frst_clf2 = Pipeline([('vect', CountVectorizer(m...                                            ))\\n])\", 'frst_clf = None', 'del(frst_clf)', 'if __name__ == \"__main__\":   \\n    cross_val_scor..., scoring=\\'roc_auc\\', cv=cv, n_jobs=-1, verbose=1)'], 'LogisticRegression': <class 'sklearn.linear_model.logistic.LogisticRegression'>, 'Out': {12: array([ 0.9880641 ,  0.98823835,  0.98806061])}, 'Pipeline': <class 'sklearn.pipeline.Pipeline'>, 'RandomForestClassifier': <class 'sklearn.ensemble.forest.RandomForestClassifier'>, 'RandomizedSearchCV': <class 'sklearn.model_selection._search.RandomizedSearchCV'>, ...}\n   2863             finally:\n   2864                 # Reset our crash handler in place\n   2865                 sys.excepthook = old_excepthook\n   2866         except SystemExit as e:\n\n...........................................................................\nC:\\Users\\ml-unifam\\notebooks\\hw_05\\<ipython-input-19-ba18760b29c7> in <module>()\n      1 if __name__ == \"__main__\":   \n----> 2     cross_val_score(frst_clf2, X_train, y_train, scoring='roc_auc', cv=cv, n_jobs=-1, verbose=1)\n\n...........................................................................\nC:\\Anaconda\\lib\\site-packages\\sklearn\\model_selection\\_validation.py in cross_val_score(estimator=Pipeline(memory=None,\n     steps=[('vect', Count...random_state=123, verbose=0, warm_start=False))]), X=array([ 'менеджер продажа лакокрасочный материал...сделать сейчас вакансия'], \n      dtype='<U8417'), y=array([1, 0, 0, ..., 0, 1, 1], dtype=int64), groups=None, scoring='roc_auc', cv=StratifiedKFold(n_splits=3, random_state=123, shuffle=True), n_jobs=-1, verbose=1, fit_params=None, pre_dispatch='2*n_jobs')\n    337     cv_results = cross_validate(estimator=estimator, X=X, y=y, groups=groups,\n    338                                 scoring={'score': scorer}, cv=cv,\n    339                                 return_train_score=False,\n    340                                 n_jobs=n_jobs, verbose=verbose,\n    341                                 fit_params=fit_params,\n--> 342                                 pre_dispatch=pre_dispatch)\n        pre_dispatch = '2*n_jobs'\n    343     return cv_results['test_score']\n    344 \n    345 \n    346 def _fit_and_score(estimator, X, y, scorer, train, test, verbose,\n\n...........................................................................\nC:\\Anaconda\\lib\\site-packages\\sklearn\\model_selection\\_validation.py in cross_validate(estimator=Pipeline(memory=None,\n     steps=[('vect', Count...random_state=123, verbose=0, warm_start=False))]), X=array([ 'менеджер продажа лакокрасочный материал...сделать сейчас вакансия'], \n      dtype='<U8417'), y=array([1, 0, 0, ..., 0, 1, 1], dtype=int64), groups=None, scoring={'score': make_scorer(roc_auc_score, needs_threshold=True)}, cv=StratifiedKFold(n_splits=3, random_state=123, shuffle=True), n_jobs=-1, verbose=1, fit_params=None, pre_dispatch='2*n_jobs', return_train_score=False)\n    201     scores = parallel(\n    202         delayed(_fit_and_score)(\n    203             clone(estimator), X, y, scorers, train, test, verbose, None,\n    204             fit_params, return_train_score=return_train_score,\n    205             return_times=True)\n--> 206         for train, test in cv.split(X, y, groups))\n        cv.split = <bound method StratifiedKFold.split of StratifiedKFold(n_splits=3, random_state=123, shuffle=True)>\n        X = array([ 'менеджер продажа лакокрасочный материал...сделать сейчас вакансия'], \n      dtype='<U8417')\n        y = array([1, 0, 0, ..., 0, 1, 1], dtype=int64)\n        groups = None\n    207 \n    208     if return_train_score:\n    209         train_scores, test_scores, fit_times, score_times = zip(*scores)\n    210         train_scores = _aggregate_score_dicts(train_scores)\n\n...........................................................................\nC:\\Anaconda\\lib\\site-packages\\sklearn\\externals\\joblib\\parallel.py in __call__(self=Parallel(n_jobs=-1), iterable=<generator object cross_validate.<locals>.<genexpr>>)\n    784             if pre_dispatch == \"all\" or n_jobs == 1:\n    785                 # The iterable was consumed all at once by the above for loop.\n    786                 # No need to wait for async callbacks to trigger to\n    787                 # consumption.\n    788                 self._iterating = False\n--> 789             self.retrieve()\n        self.retrieve = <bound method Parallel.retrieve of Parallel(n_jobs=-1)>\n    790             # Make sure that we get a last message telling us we are done\n    791             elapsed_time = time.time() - self._start_time\n    792             self._print('Done %3i out of %3i | elapsed: %s finished',\n    793                         (len(self._output), len(self._output),\n\n---------------------------------------------------------------------------\nSub-process traceback:\n---------------------------------------------------------------------------\nMemoryError                                        Wed Mar  7 20:06:32 2018\nPID: 884                               Python 3.6.3: C:\\Anaconda\\python.exe\n...........................................................................\nC:\\Anaconda\\lib\\site-packages\\sklearn\\externals\\joblib\\parallel.py in __call__(self=<sklearn.externals.joblib.parallel.BatchedCalls object>)\n    126     def __init__(self, iterator_slice):\n    127         self.items = list(iterator_slice)\n    128         self._size = len(self.items)\n    129 \n    130     def __call__(self):\n--> 131         return [func(*args, **kwargs) for func, args, kwargs in self.items]\n        self.items = [(<function _fit_and_score>, (Pipeline(memory=None,\n     steps=[('vect', Count...random_state=123, verbose=0, warm_start=False))]), memmap([ 'менеджер продажа лакокрасочный материа...сделать сейчас вакансия'], \n      dtype='<U8417'), memmap([1, 0, 0, ..., 0, 1, 1], dtype=int64), {'score': make_scorer(roc_auc_score, needs_threshold=True)}, array([     0,      1,      2, ..., 133997, 133998, 133999]), array([     6,      7,     12, ..., 133987, 133988, 133995]), 1, None, None), {'return_times': True, 'return_train_score': False})]\n    132 \n    133     def __len__(self):\n    134         return self._size\n    135 \n\n...........................................................................\nC:\\Anaconda\\lib\\site-packages\\sklearn\\externals\\joblib\\parallel.py in <listcomp>(.0=<list_iterator object>)\n    126     def __init__(self, iterator_slice):\n    127         self.items = list(iterator_slice)\n    128         self._size = len(self.items)\n    129 \n    130     def __call__(self):\n--> 131         return [func(*args, **kwargs) for func, args, kwargs in self.items]\n        func = <function _fit_and_score>\n        args = (Pipeline(memory=None,\n     steps=[('vect', Count...random_state=123, verbose=0, warm_start=False))]), memmap([ 'менеджер продажа лакокрасочный материа...сделать сейчас вакансия'], \n      dtype='<U8417'), memmap([1, 0, 0, ..., 0, 1, 1], dtype=int64), {'score': make_scorer(roc_auc_score, needs_threshold=True)}, array([     0,      1,      2, ..., 133997, 133998, 133999]), array([     6,      7,     12, ..., 133987, 133988, 133995]), 1, None, None)\n        kwargs = {'return_times': True, 'return_train_score': False}\n    132 \n    133     def __len__(self):\n    134         return self._size\n    135 \n\n...........................................................................\nC:\\Anaconda\\lib\\site-packages\\sklearn\\model_selection\\_validation.py in _fit_and_score(estimator=Pipeline(memory=None,\n     steps=[('vect', Count...random_state=123, verbose=0, warm_start=False))]), X=memmap([ 'менеджер продажа лакокрасочный материа...сделать сейчас вакансия'], \n      dtype='<U8417'), y=memmap([1, 0, 0, ..., 0, 1, 1], dtype=int64), scorer={'score': make_scorer(roc_auc_score, needs_threshold=True)}, train=array([     0,      1,      2, ..., 133997, 133998, 133999]), test=array([     6,      7,     12, ..., 133987, 133988, 133995]), verbose=1, parameters=None, fit_params={}, return_train_score=False, return_parameters=False, return_n_test_samples=False, return_times=True, error_score='raise')\n    444         estimator.set_params(**parameters)\n    445 \n    446     start_time = time.time()\n    447 \n    448     X_train, y_train = _safe_split(estimator, X, y, train)\n--> 449     X_test, y_test = _safe_split(estimator, X, y, test, train)\n        X_test = undefined\n        y_test = undefined\n        estimator = Pipeline(memory=None,\n     steps=[('vect', Count...random_state=123, verbose=0, warm_start=False))])\n        X = memmap([ 'менеджер продажа лакокрасочный материа...сделать сейчас вакансия'], \n      dtype='<U8417')\n        y = memmap([1, 0, 0, ..., 0, 1, 1], dtype=int64)\n        test = array([     6,      7,     12, ..., 133987, 133988, 133995])\n        train = array([     0,      1,      2, ..., 133997, 133998, 133999])\n    450 \n    451     is_multimetric = not callable(scorer)\n    452     n_scorers = len(scorer.keys()) if is_multimetric else 1\n    453 \n\n...........................................................................\nC:\\Anaconda\\lib\\site-packages\\sklearn\\utils\\metaestimators.py in _safe_split(estimator=Pipeline(memory=None,\n     steps=[('vect', Count...random_state=123, verbose=0, warm_start=False))]), X=memmap([ 'менеджер продажа лакокрасочный материа...сделать сейчас вакансия'], \n      dtype='<U8417'), y=memmap([1, 0, 0, ..., 0, 1, 1], dtype=int64), indices=array([     6,      7,     12, ..., 133987, 133988, 133995]), train_indices=array([     0,      1,      2, ..., 133997, 133998, 133999]))\n    195         if train_indices is None:\n    196             X_subset = X[np.ix_(indices, indices)]\n    197         else:\n    198             X_subset = X[np.ix_(indices, train_indices)]\n    199     else:\n--> 200         X_subset = safe_indexing(X, indices)\n        X_subset = undefined\n        X = memmap([ 'менеджер продажа лакокрасочный материа...сделать сейчас вакансия'], \n      dtype='<U8417')\n        indices = array([     6,      7,     12, ..., 133987, 133988, 133995])\n    201 \n    202     if y is not None:\n    203         y_subset = safe_indexing(y, indices)\n    204     else:\n\n...........................................................................\nC:\\Anaconda\\lib\\site-packages\\sklearn\\utils\\__init__.py in safe_indexing(X=memmap([ 'менеджер продажа лакокрасочный материа...сделать сейчас вакансия'], \n      dtype='<U8417'), indices=array([     6,      7,     12, ..., 133987, 133988, 133995]))\n    155             return X.copy().iloc[indices]\n    156     elif hasattr(X, \"shape\"):\n    157         if hasattr(X, 'take') and (hasattr(indices, 'dtype') and\n    158                                    indices.dtype.kind == 'i'):\n    159             # This is often substantially faster than X[indices]\n--> 160             return X.take(indices, axis=0)\n        X.take = <built-in method take of memmap object>\n        indices = array([     6,      7,     12, ..., 133987, 133988, 133995])\n    161         else:\n    162             return X[indices]\n    163     else:\n    164         return [X[idx] for idx in indices]\n\nMemoryError: \n___________________________________________________________________________"
     ]
    }
   ],
   "source": [
    "if __name__ == \"__main__\":   \n",
    "    cross_val_score(frst_clf2, X_train, y_train, scoring='roc_auc', cv=cv, n_jobs=-1, verbose=1)"
   ]
  },
  {
   "cell_type": "code",
   "execution_count": null,
   "metadata": {
    "collapsed": true
   },
   "outputs": [],
   "source": [
    "cv_score"
   ]
  },
  {
   "cell_type": "code",
   "execution_count": null,
   "metadata": {
    "collapsed": true
   },
   "outputs": [],
   "source": [
    "frst_gs_clf2 = GridSearchCV(frst_clf2, parameters, n_jobs=-1, cv=cv, scoring='roc_auc')"
   ]
  },
  {
   "cell_type": "code",
   "execution_count": null,
   "metadata": {
    "collapsed": true
   },
   "outputs": [],
   "source": [
    "%%time \n",
    "\n",
    "frst_gs_clf2.fit(X, y)"
   ]
  },
  {
   "cell_type": "code",
   "execution_count": null,
   "metadata": {
    "collapsed": true
   },
   "outputs": [],
   "source": [
    "print_test_results(frst_gs_clf2)"
   ]
  },
  {
   "cell_type": "markdown",
   "metadata": {},
   "source": [
    "## Оценка логистической регрессии"
   ]
  },
  {
   "cell_type": "code",
   "execution_count": null,
   "metadata": {
    "collapsed": true
   },
   "outputs": [],
   "source": [
    "np.random.seed(15546)\n",
    "\n",
    "rand_ind = np.hstack((np.random.choice(np.where(y==1)[0], 10000), np.random.choice(np.where(y==0)[0], 10000)))"
   ]
  },
  {
   "cell_type": "code",
   "execution_count": null,
   "metadata": {
    "collapsed": true
   },
   "outputs": [],
   "source": [
    "X = X_train[rand_ind]\n",
    "y = y_train[rand_ind]"
   ]
  },
  {
   "cell_type": "code",
   "execution_count": null,
   "metadata": {
    "collapsed": true
   },
   "outputs": [],
   "source": [
    "text_clf = Pipeline([\n",
    "    ('vect', CountVectorizer(max_df=0.5, min_df=100, ngram_range=(1,3), max_features=4000)),\n",
    "    ('tfidf',  TfidfTransformer(norm=None, smooth_idf=True, use_idf=True)),\n",
    "    ('clf', LogisticRegression(random_state=42, solver='saga', max_iter=500)),\n",
    "])"
   ]
  },
  {
   "cell_type": "code",
   "execution_count": null,
   "metadata": {
    "collapsed": true,
    "scrolled": false
   },
   "outputs": [],
   "source": [
    "max_iter = range(300, 1000, 100)\n",
    "_, lg_max_iter_test_scores = validation_curve(text_clf, X, y, param_name='clf__max_iter', param_range=max_iter, \n",
    "                 scoring='roc_auc', cv=cv, n_jobs=-1)\n",
    "\n",
    "plt.plot(max_iter, lg_max_iter_test_scores.mean(axis=1))"
   ]
  },
  {
   "cell_type": "code",
   "execution_count": null,
   "metadata": {
    "collapsed": true
   },
   "outputs": [],
   "source": [
    "C = (0.001, 0.1, 1.0)\n",
    "_, lg_C_test_scores = validation_curve(text_clf, X, y, param_name='clf__C', param_range=C, \n",
    "                 scoring='roc_auc', cv=cv, n_jobs=-1)\n",
    "\n",
    "plt.plot(C, lg_C_test_scores.mean(axis=1))"
   ]
  },
  {
   "cell_type": "code",
   "execution_count": null,
   "metadata": {
    "collapsed": true
   },
   "outputs": [],
   "source": [
    "max_features = range(100, 10000, 500)\n",
    "_, lg_max_features_test_scores = validation_curve(text_clf, X, y, param_name='vect__max_features', param_range=max_features, \n",
    "                 scoring='roc_auc', cv=cv, n_jobs=-1)\n",
    "\n",
    "plt.plot(max_features, lg_max_features_test_scores.mean(axis=1))"
   ]
  },
  {
   "cell_type": "code",
   "execution_count": null,
   "metadata": {
    "collapsed": true
   },
   "outputs": [],
   "source": [
    "parameters = {\n",
    "    #'vect__ngram_range': [(1, 2), (1, 3)],                            \n",
    "    'vect__max_features': (2000, 3000, 4000),\n",
    "    #'clf__max_iter': (300, 500, 700, 1000),\n",
    "}"
   ]
  },
  {
   "cell_type": "code",
   "execution_count": null,
   "metadata": {
    "collapsed": true
   },
   "outputs": [],
   "source": [
    "gs_clf = GridSearchCV(text_clf, parameters, n_jobs=-1, scoring='roc_auc')"
   ]
  },
  {
   "cell_type": "code",
   "execution_count": null,
   "metadata": {
    "collapsed": true
   },
   "outputs": [],
   "source": [
    "%%time\n",
    "gs_clf.fit(X, y).best_score_"
   ]
  },
  {
   "cell_type": "code",
   "execution_count": null,
   "metadata": {
    "collapsed": true
   },
   "outputs": [],
   "source": [
    "print_test_results(gs_clf)"
   ]
  },
  {
   "cell_type": "code",
   "execution_count": null,
   "metadata": {
    "collapsed": true
   },
   "outputs": [],
   "source": [
    "l = gs_clf.best_estimator_"
   ]
  },
  {
   "cell_type": "code",
   "execution_count": null,
   "metadata": {
    "collapsed": true
   },
   "outputs": [],
   "source": [
    "a = l.steps[2][1]"
   ]
  },
  {
   "cell_type": "code",
   "execution_count": null,
   "metadata": {
    "collapsed": true
   },
   "outputs": [],
   "source": [
    "matrix = l.steps[0][1]\n",
    "matrix."
   ]
  },
  {
   "cell_type": "code",
   "execution_count": null,
   "metadata": {
    "collapsed": true
   },
   "outputs": [],
   "source": [
    "len(matrix.get_feature_names())"
   ]
  },
  {
   "cell_type": "code",
   "execution_count": null,
   "metadata": {
    "collapsed": true
   },
   "outputs": [],
   "source": [
    "np.hstack([matrix.get_feature_names(), a.coef_[0, :]]).reshape((4000, 2), order='F')"
   ]
  },
  {
   "cell_type": "code",
   "execution_count": null,
   "metadata": {
    "collapsed": true
   },
   "outputs": [],
   "source": [
    "weigts = pd.DataFrame(np.hstack([matrix.get_feature_names(), a.coef_[0, :]]).reshape((4000, 2), order='F'),\n",
    "             columns=['names', 'weigts'])"
   ]
  },
  {
   "cell_type": "code",
   "execution_count": null,
   "metadata": {
    "collapsed": true
   },
   "outputs": [],
   "source": [
    "weigts.sort_values('weigts', ascending=True)"
   ]
  },
  {
   "cell_type": "code",
   "execution_count": null,
   "metadata": {
    "collapsed": true
   },
   "outputs": [],
   "source": [
    "#gs_clf.transform()"
   ]
  },
  {
   "cell_type": "markdown",
   "metadata": {
    "collapsed": true
   },
   "source": [
    "## Обучение на всей выборке"
   ]
  },
  {
   "cell_type": "code",
   "execution_count": 66,
   "metadata": {
    "collapsed": true
   },
   "outputs": [],
   "source": [
    "clf = Pipeline([('vect', CountVectorizer(min_df = 1000, max_df=0.5)),                     \n",
    "                     ('clf', RandomForestClassifier(random_state=123, n_jobs=-1, \n",
    "                                                    criterion='entropy', \n",
    "                                                    n_estimators=1300,                                                     \n",
    "                                                    max_depth=25, min_samples_leaf=1,\n",
    "                                                    min_samples_split=10,\n",
    "                                                    ))\n",
    "])"
   ]
  },
  {
   "cell_type": "code",
   "execution_count": 67,
   "metadata": {},
   "outputs": [
    {
     "name": "stdout",
     "output_type": "stream",
     "text": [
      "Wall time: 7min 12s\n"
     ]
    },
    {
     "data": {
      "text/plain": [
       "Pipeline(memory=None,\n",
       "     steps=[('vect', CountVectorizer(analyzer='word', binary=False, decode_error='strict',\n",
       "        dtype=<class 'numpy.int64'>, encoding='utf-8', input='content',\n",
       "        lowercase=True, max_df=0.5, max_features=None, min_df=1000,\n",
       "        ngram_range=(1, 1), preprocessor=None, stop_words=None,\n",
       "        st...ators=1300, n_jobs=-1,\n",
       "            oob_score=False, random_state=123, verbose=0, warm_start=False))])"
      ]
     },
     "execution_count": 67,
     "metadata": {},
     "output_type": "execute_result"
    }
   ],
   "source": [
    "%%time \n",
    "\n",
    "clf.fit(X_train, y_train)"
   ]
  },
  {
   "cell_type": "code",
   "execution_count": 68,
   "metadata": {
    "collapsed": true
   },
   "outputs": [],
   "source": [
    "test_predictions = clf.predict(X_test)"
   ]
  },
  {
   "cell_type": "code",
   "execution_count": 69,
   "metadata": {},
   "outputs": [
    {
     "data": {
      "text/plain": [
       "0.95773254405226904"
      ]
     },
     "execution_count": 69,
     "metadata": {},
     "output_type": "execute_result"
    }
   ],
   "source": [
    "roc_auc_score(y_test, test_predictions)"
   ]
  },
  {
   "cell_type": "code",
   "execution_count": null,
   "metadata": {
    "collapsed": true,
    "scrolled": false
   },
   "outputs": [],
   "source": [
    "predict_probabilities = lgr_clf.predict_proba(X_test)"
   ]
  },
  {
   "cell_type": "code",
   "execution_count": null,
   "metadata": {
    "collapsed": true
   },
   "outputs": [],
   "source": [
    "predict_probabilities[:, 1].shape"
   ]
  },
  {
   "cell_type": "code",
   "execution_count": null,
   "metadata": {
    "collapsed": true
   },
   "outputs": [],
   "source": [
    "y_test.shape"
   ]
  },
  {
   "cell_type": "code",
   "execution_count": null,
   "metadata": {
    "collapsed": true
   },
   "outputs": [],
   "source": [
    "fpr, tpr, _ = roc_curve(y_test, predict_probabilities[:, 0], pos_label=0)"
   ]
  },
  {
   "cell_type": "code",
   "execution_count": null,
   "metadata": {
    "collapsed": true
   },
   "outputs": [],
   "source": [
    "plt.plot(fpr, tpr)"
   ]
  },
  {
   "cell_type": "code",
   "execution_count": 134,
   "metadata": {
    "collapsed": true
   },
   "outputs": [],
   "source": [
    "test_texts = getVacanciesLemmas(test_data.iloc[:, -1].values)"
   ]
  },
  {
   "cell_type": "code",
   "execution_count": 137,
   "metadata": {},
   "outputs": [
    {
     "name": "stderr",
     "output_type": "stream",
     "text": [
      "[Parallel(n_jobs=8)]: Done  34 tasks      | elapsed:    3.4s\n",
      "[Parallel(n_jobs=8)]: Done 184 tasks      | elapsed:   16.7s\n",
      "[Parallel(n_jobs=8)]: Done 434 tasks      | elapsed:   38.3s\n",
      "[Parallel(n_jobs=8)]: Done 784 tasks      | elapsed:  1.1min\n",
      "[Parallel(n_jobs=8)]: Done 1000 out of 1000 | elapsed:  1.4min finished\n"
     ]
    }
   ],
   "source": [
    "result_predictions = frst_clf.predict(test_texts)"
   ]
  },
  {
   "cell_type": "code",
   "execution_count": 138,
   "metadata": {
    "collapsed": true
   },
   "outputs": [],
   "source": [
    "set_answer(result_predictions, 'frst_predict33')"
   ]
  },
  {
   "cell_type": "code",
   "execution_count": null,
   "metadata": {
    "collapsed": true
   },
   "outputs": [],
   "source": []
  }
 ],
 "metadata": {
  "kernelspec": {
   "display_name": "Python [default]",
   "language": "python",
   "name": "python3"
  },
  "language_info": {
   "codemirror_mode": {
    "name": "ipython",
    "version": 3
   },
   "file_extension": ".py",
   "mimetype": "text/x-python",
   "name": "python",
   "nbconvert_exporter": "python",
   "pygments_lexer": "ipython3",
   "version": "3.6.3"
  },
  "varInspector": {
   "cols": {
    "lenName": 16,
    "lenType": 16,
    "lenVar": 40
   },
   "kernels_config": {
    "python": {
     "delete_cmd_postfix": "",
     "delete_cmd_prefix": "del ",
     "library": "var_list.py",
     "varRefreshCmd": "print(var_dic_list())"
    },
    "r": {
     "delete_cmd_postfix": ") ",
     "delete_cmd_prefix": "rm(",
     "library": "var_list.r",
     "varRefreshCmd": "cat(var_dic_list()) "
    }
   },
   "types_to_exclude": [
    "module",
    "function",
    "builtin_function_or_method",
    "instance",
    "_Feature"
   ],
   "window_display": true
  }
 },
 "nbformat": 4,
 "nbformat_minor": 2
}
