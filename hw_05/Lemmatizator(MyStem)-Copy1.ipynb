{
 "cells": [
  {
   "cell_type": "code",
   "execution_count": 1,
   "metadata": {
    "collapsed": true
   },
   "outputs": [],
   "source": [
    "import pandas as pd\n",
    "from bs4 import BeautifulSoup\n",
    "import pymorphy2\n",
    "import re\n",
    "from numba import jit\n",
    "import numpy as np"
   ]
  },
  {
   "cell_type": "code",
   "execution_count": 2,
   "metadata": {
    "collapsed": true
   },
   "outputs": [],
   "source": [
    "from multiprocessing import Pool"
   ]
  },
  {
   "cell_type": "markdown",
   "metadata": {},
   "source": [
    "## Описание полей\n",
    " * __id__ &mdash; внутренний идетификатор\n",
    " * __name__ &mdash; название вакансии\n",
    " * __description__ &mdash; текст вакансии\n",
    " * __target__ &mdash; класс заинтересованности"
   ]
  },
  {
   "cell_type": "code",
   "execution_count": 3,
   "metadata": {
    "collapsed": true
   },
   "outputs": [],
   "source": [
    "def get_data(processed=False):\n",
    "    if processed:\n",
    "        train_data = pd.read_csv('data/train_processed.csv', sep='\\t', index_col='id')\n",
    "        test_data = pd.read_csv('data/test_processed.csv', sep='\\t', index_col='id') \n",
    "    else:\n",
    "        train_data = pd.read_csv('data/train.csv', sep='\\t', index_col='id')\n",
    "        test_data = pd.read_csv('data/test.csv', sep='\\t', index_col='id') \n",
    "    return (train_data, test_data)"
   ]
  },
  {
   "cell_type": "code",
   "execution_count": 4,
   "metadata": {
    "collapsed": true
   },
   "outputs": [],
   "source": [
    "## Токенизатор \n",
    "def get_lemmas(text):\n",
    "    text = BeautifulSoup(text, 'lxml').get_text()       \n",
    "    lemms = [morph.parse(word)[0].normal_form for word in text.split()]\n",
    "        \n",
    "    return \" \".join([x for x in lemms if (re.match('^[a-zа-яё]+(-[a-zа-яё]+)*$', x) and len(x)>2)])\n",
    "       \n",
    "def get_vacancies_lemmas(texts):  \n",
    "    texts = np.array(texts)    \n",
    "    processed = np.vectorize(get_lemmas, otypes=[str])              \n",
    "    return processed(texts)"
   ]
  },
  {
   "cell_type": "code",
   "execution_count": 5,
   "metadata": {
    "collapsed": true
   },
   "outputs": [],
   "source": [
    "train_data = pd.read_csv('data/train.csv', sep='\\t', index_col='id')"
   ]
  },
  {
   "cell_type": "code",
   "execution_count": 6,
   "metadata": {},
   "outputs": [
    {
     "name": "stdout",
     "output_type": "stream",
     "text": [
      "Wall time: 2h 49min 30s\n"
     ]
    }
   ],
   "source": [
    "%%time\n",
    "\n",
    "morph = pymorphy2.MorphAnalyzer()\n",
    "\n",
    "train_data['name_processed'] = get_vacancies_lemmas(train_data['name'])\n",
    "train_data['description_processed'] = get_vacancies_lemmas(train_data['description'])\n"
   ]
  },
  {
   "cell_type": "code",
   "execution_count": 7,
   "metadata": {},
   "outputs": [],
   "source": [
    "train_data.to_csv('data/train_processed2.csv', '\\t')"
   ]
  },
  {
   "cell_type": "code",
   "execution_count": null,
   "metadata": {
    "collapsed": true
   },
   "outputs": [],
   "source": []
  }
 ],
 "metadata": {
  "kernelspec": {
   "display_name": "Python [default]",
   "language": "python",
   "name": "python3"
  },
  "language_info": {
   "codemirror_mode": {
    "name": "ipython",
    "version": 3
   },
   "file_extension": ".py",
   "mimetype": "text/x-python",
   "name": "python",
   "nbconvert_exporter": "python",
   "pygments_lexer": "ipython3",
   "version": "3.6.3"
  },
  "varInspector": {
   "cols": {
    "lenName": 16,
    "lenType": 16,
    "lenVar": 40
   },
   "kernels_config": {
    "python": {
     "delete_cmd_postfix": "",
     "delete_cmd_prefix": "del ",
     "library": "var_list.py",
     "varRefreshCmd": "print(var_dic_list())"
    },
    "r": {
     "delete_cmd_postfix": ") ",
     "delete_cmd_prefix": "rm(",
     "library": "var_list.r",
     "varRefreshCmd": "cat(var_dic_list()) "
    }
   },
   "position": {
    "height": "399px",
    "left": "1550px",
    "right": "20px",
    "top": "120px",
    "width": "349px"
   },
   "types_to_exclude": [
    "module",
    "function",
    "builtin_function_or_method",
    "instance",
    "_Feature"
   ],
   "window_display": true
  }
 },
 "nbformat": 4,
 "nbformat_minor": 2
}
